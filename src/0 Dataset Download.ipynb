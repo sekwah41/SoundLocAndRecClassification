{
 "cells": [
  {
   "cell_type": "markdown",
   "id": "0998b404",
   "metadata": {},
   "source": [
    "# Datasets\n",
    "\n",
    "At the moment the pre-processing is only setup to take custom folders and the UrbanSound8K dataset."
   ]
  },
  {
   "cell_type": "code",
   "execution_count": 2,
   "id": "ce2dd29f",
   "metadata": {},
   "outputs": [
    {
     "name": "stderr",
     "output_type": "stream",
     "text": [
      "INFO: Downloading ['all'] to ../resources/UrbanSound8K\n",
      "INFO: [all] downloading UrbanSound8K.tar.gz\n"
     ]
    },
    {
     "name": "stdout",
     "output_type": "stream",
     "text": [
      "['eigenscape', 'eigenscape_raw', 'esc50', 'fsd50k', 'fsdnoisy18k', 'marco', 'singapura', 'starss2022', 'tau2019sse', 'tau2019uas', 'tau2020sse_nigens', 'tau2020uas_mobile', 'tau2021sse_nigens', 'tut2017se', 'urbansed', 'urbansound8k']\n"
     ]
    },
    {
     "name": "stderr",
     "output_type": "stream",
     "text": [
      "5.61GB [01:59, 50.3MB/s]                                                                                                                                    \n"
     ]
    }
   ],
   "source": [
    "import soundata\n",
    "\n",
    "# choose a dataset and download it\n",
    "dataset = soundata.initialize('urbansound8k', data_home='../resources/UrbanSound8K')\n",
    "dataset.download()\n"
   ]
  },
  {
   "cell_type": "code",
   "execution_count": null,
   "id": "f9cc0c54",
   "metadata": {},
   "outputs": [],
   "source": []
  }
 ],
 "metadata": {
  "kernelspec": {
   "display_name": "Python 3 (ipykernel)",
   "language": "python",
   "name": "python3"
  },
  "language_info": {
   "codemirror_mode": {
    "name": "ipython",
    "version": 3
   },
   "file_extension": ".py",
   "mimetype": "text/x-python",
   "name": "python",
   "nbconvert_exporter": "python",
   "pygments_lexer": "ipython3",
   "version": "3.8.10"
  }
 },
 "nbformat": 4,
 "nbformat_minor": 5
}
