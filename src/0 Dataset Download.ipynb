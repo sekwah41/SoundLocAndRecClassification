{
 "cells": [
  {
   "cell_type": "markdown",
   "id": "0998b404",
   "metadata": {},
   "source": [
    "# Datasets\n",
    "\n",
    "At the moment the pre-processing is only setup to take custom folders and the UrbanSound8K dataset."
   ]
  },
  {
   "cell_type": "code",
   "id": "ce2dd29f",
   "metadata": {
    "jupyter": {
     "is_executing": true
    }
   },
   "source": [
    "import soundata\n",
    "\n",
    "# choose a dataset and download it\n",
    "dataset = soundata.initialize('urbansound8k', data_home='../resources/UrbanSound8K')\n",
    "dataset.download()\n"
   ],
   "outputs": [],
   "execution_count": null
  },
  {
   "cell_type": "code",
   "id": "f9cc0c54",
   "metadata": {
    "jupyter": {
     "is_executing": true
    }
   },
   "source": [],
   "outputs": [],
   "execution_count": null
  },
  {
   "metadata": {},
   "cell_type": "code",
   "outputs": [],
   "execution_count": null,
   "source": "",
   "id": "dfad6d41ecc6655a"
  }
 ],
 "metadata": {
  "kernelspec": {
   "display_name": "Python 3 (ipykernel)",
   "language": "python",
   "name": "python3"
  },
  "language_info": {
   "codemirror_mode": {
    "name": "ipython",
    "version": 3
   },
   "file_extension": ".py",
   "mimetype": "text/x-python",
   "name": "python",
   "nbconvert_exporter": "python",
   "pygments_lexer": "ipython3",
   "version": "3.8.10"
  }
 },
 "nbformat": 4,
 "nbformat_minor": 5
}
