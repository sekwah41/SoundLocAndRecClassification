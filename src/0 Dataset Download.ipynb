{
 "cells": [
  {
   "cell_type": "markdown",
   "id": "0998b404",
   "metadata": {},
   "source": [
    "# Datasets\n",
    "\n",
    "At the moment the pre-processing is only setup to take custom folders and the UrbanSound8K dataset."
   ]
  },
  {
   "cell_type": "code",
   "execution_count": 3,
   "id": "fd4d52c7",
   "metadata": {},
   "outputs": [
    {
     "name": "stdout",
     "output_type": "stream",
     "text": [
      "Requirement already satisfied: soundata in /Users/sekwah/venv-metal/lib/python3.10/site-packages (0.1.3)\n",
      "Requirement already satisfied: librosa>=0.10.0 in /Users/sekwah/venv-metal/lib/python3.10/site-packages (from soundata) (0.10.0.post2)\n",
      "Requirement already satisfied: numpy>=1.21.6 in /Users/sekwah/venv-metal/lib/python3.10/site-packages (from soundata) (1.23.5)\n",
      "Requirement already satisfied: pandas>=1.3.5 in /Users/sekwah/venv-metal/lib/python3.10/site-packages (from soundata) (2.0.3)\n",
      "Requirement already satisfied: requests>=2.31.0 in /Users/sekwah/venv-metal/lib/python3.10/site-packages (from soundata) (2.31.0)\n",
      "Requirement already satisfied: tqdm>=4.65.0 in /Users/sekwah/venv-metal/lib/python3.10/site-packages (from soundata) (4.65.0)\n",
      "Requirement already satisfied: jams>=0.3.4 in /Users/sekwah/venv-metal/lib/python3.10/site-packages (from soundata) (0.3.4)\n",
      "Requirement already satisfied: flake8>=5.0.4 in /Users/sekwah/venv-metal/lib/python3.10/site-packages (from soundata) (7.0.0)\n",
      "Requirement already satisfied: mypy>=0.982 in /Users/sekwah/venv-metal/lib/python3.10/site-packages (from soundata) (1.10.0)\n",
      "Requirement already satisfied: py7zr>=0.16.0 in /Users/sekwah/venv-metal/lib/python3.10/site-packages (from soundata) (0.21.0)\n",
      "Requirement already satisfied: pydub>=0.25.1 in /Users/sekwah/venv-metal/lib/python3.10/site-packages (from soundata) (0.25.1)\n",
      "Requirement already satisfied: simpleaudio>=1.0.4 in /Users/sekwah/venv-metal/lib/python3.10/site-packages (from soundata) (1.0.4)\n",
      "Requirement already satisfied: seaborn>=0.11.2 in /Users/sekwah/venv-metal/lib/python3.10/site-packages (from soundata) (0.12.2)\n",
      "Requirement already satisfied: ipywidgets>=8.1.1 in /Users/sekwah/venv-metal/lib/python3.10/site-packages (from soundata) (8.1.2)\n",
      "Requirement already satisfied: mccabe<0.8.0,>=0.7.0 in /Users/sekwah/venv-metal/lib/python3.10/site-packages (from flake8>=5.0.4->soundata) (0.7.0)\n",
      "Requirement already satisfied: pycodestyle<2.12.0,>=2.11.0 in /Users/sekwah/venv-metal/lib/python3.10/site-packages (from flake8>=5.0.4->soundata) (2.11.1)\n",
      "Requirement already satisfied: pyflakes<3.3.0,>=3.2.0 in /Users/sekwah/venv-metal/lib/python3.10/site-packages (from flake8>=5.0.4->soundata) (3.2.0)\n",
      "Requirement already satisfied: comm>=0.1.3 in /Users/sekwah/venv-metal/lib/python3.10/site-packages (from ipywidgets>=8.1.1->soundata) (0.1.3)\n",
      "Requirement already satisfied: ipython>=6.1.0 in /Users/sekwah/venv-metal/lib/python3.10/site-packages (from ipywidgets>=8.1.1->soundata) (8.11.0)\n",
      "Requirement already satisfied: traitlets>=4.3.1 in /Users/sekwah/venv-metal/lib/python3.10/site-packages (from ipywidgets>=8.1.1->soundata) (5.9.0)\n",
      "Requirement already satisfied: widgetsnbextension~=4.0.10 in /Users/sekwah/venv-metal/lib/python3.10/site-packages (from ipywidgets>=8.1.1->soundata) (4.0.10)\n",
      "Requirement already satisfied: jupyterlab-widgets~=3.0.10 in /Users/sekwah/venv-metal/lib/python3.10/site-packages (from ipywidgets>=8.1.1->soundata) (3.0.10)\n",
      "Requirement already satisfied: sortedcontainers>=2.0.0 in /Users/sekwah/venv-metal/lib/python3.10/site-packages (from jams>=0.3.4->soundata) (2.4.0)\n",
      "Requirement already satisfied: jsonschema>=3.0.0 in /Users/sekwah/venv-metal/lib/python3.10/site-packages (from jams>=0.3.4->soundata) (4.17.3)\n",
      "Requirement already satisfied: six in /Users/sekwah/venv-metal/lib/python3.10/site-packages (from jams>=0.3.4->soundata) (1.14.0)\n",
      "Requirement already satisfied: decorator in /Users/sekwah/venv-metal/lib/python3.10/site-packages (from jams>=0.3.4->soundata) (5.1.1)\n",
      "Requirement already satisfied: mir-eval>=0.5 in /Users/sekwah/venv-metal/lib/python3.10/site-packages (from jams>=0.3.4->soundata) (0.7)\n",
      "Requirement already satisfied: audioread>=2.1.9 in /Users/sekwah/venv-metal/lib/python3.10/site-packages (from librosa>=0.10.0->soundata) (3.0.0)\n",
      "Requirement already satisfied: scipy>=1.2.0 in /Users/sekwah/venv-metal/lib/python3.10/site-packages (from librosa>=0.10.0->soundata) (1.10.1)\n",
      "Requirement already satisfied: scikit-learn>=0.20.0 in /Users/sekwah/venv-metal/lib/python3.10/site-packages (from librosa>=0.10.0->soundata) (1.3.0)\n",
      "Requirement already satisfied: joblib>=0.14 in /Users/sekwah/venv-metal/lib/python3.10/site-packages (from librosa>=0.10.0->soundata) (1.3.1)\n",
      "Requirement already satisfied: numba>=0.51.0 in /Users/sekwah/venv-metal/lib/python3.10/site-packages (from librosa>=0.10.0->soundata) (0.57.1)\n",
      "Requirement already satisfied: soundfile>=0.12.1 in /Users/sekwah/venv-metal/lib/python3.10/site-packages (from librosa>=0.10.0->soundata) (0.12.1)\n",
      "Requirement already satisfied: pooch<1.7,>=1.0 in /Users/sekwah/venv-metal/lib/python3.10/site-packages (from librosa>=0.10.0->soundata) (1.6.0)\n",
      "Requirement already satisfied: soxr>=0.3.2 in /Users/sekwah/venv-metal/lib/python3.10/site-packages (from librosa>=0.10.0->soundata) (0.3.5)\n",
      "Requirement already satisfied: typing-extensions>=4.1.1 in /Users/sekwah/venv-metal/lib/python3.10/site-packages (from librosa>=0.10.0->soundata) (4.5.0)\n",
      "Requirement already satisfied: lazy-loader>=0.1 in /Users/sekwah/venv-metal/lib/python3.10/site-packages (from librosa>=0.10.0->soundata) (0.3)\n",
      "Requirement already satisfied: msgpack>=1.0 in /Users/sekwah/venv-metal/lib/python3.10/site-packages (from librosa>=0.10.0->soundata) (1.0.5)\n",
      "Requirement already satisfied: mypy-extensions>=1.0.0 in /Users/sekwah/venv-metal/lib/python3.10/site-packages (from mypy>=0.982->soundata) (1.0.0)\n",
      "Requirement already satisfied: tomli>=1.1.0 in /Users/sekwah/venv-metal/lib/python3.10/site-packages (from mypy>=0.982->soundata) (2.0.1)\n",
      "Requirement already satisfied: python-dateutil>=2.8.2 in /Users/sekwah/venv-metal/lib/python3.10/site-packages (from pandas>=1.3.5->soundata) (2.8.2)\n",
      "Requirement already satisfied: pytz>=2020.1 in /Users/sekwah/venv-metal/lib/python3.10/site-packages (from pandas>=1.3.5->soundata) (2023.3)\n",
      "Requirement already satisfied: tzdata>=2022.1 in /Users/sekwah/venv-metal/lib/python3.10/site-packages (from pandas>=1.3.5->soundata) (2023.3)\n",
      "Requirement already satisfied: texttable in /Users/sekwah/venv-metal/lib/python3.10/site-packages (from py7zr>=0.16.0->soundata) (1.7.0)\n",
      "Requirement already satisfied: pycryptodomex>=3.16.0 in /Users/sekwah/venv-metal/lib/python3.10/site-packages (from py7zr>=0.16.0->soundata) (3.20.0)\n",
      "Requirement already satisfied: pyzstd>=0.15.9 in /Users/sekwah/venv-metal/lib/python3.10/site-packages (from py7zr>=0.16.0->soundata) (0.15.10)\n",
      "Requirement already satisfied: pyppmd<1.2.0,>=1.1.0 in /Users/sekwah/venv-metal/lib/python3.10/site-packages (from py7zr>=0.16.0->soundata) (1.1.0)\n",
      "Requirement already satisfied: pybcj<1.1.0,>=1.0.0 in /Users/sekwah/venv-metal/lib/python3.10/site-packages (from py7zr>=0.16.0->soundata) (1.0.2)\n",
      "Requirement already satisfied: multivolumefile>=0.2.3 in /Users/sekwah/venv-metal/lib/python3.10/site-packages (from py7zr>=0.16.0->soundata) (0.2.3)\n",
      "Requirement already satisfied: inflate64<1.1.0,>=1.0.0 in /Users/sekwah/venv-metal/lib/python3.10/site-packages (from py7zr>=0.16.0->soundata) (1.0.0)\n",
      "Requirement already satisfied: brotli>=1.1.0 in /Users/sekwah/venv-metal/lib/python3.10/site-packages (from py7zr>=0.16.0->soundata) (1.1.0)\n",
      "Requirement already satisfied: psutil in /Users/sekwah/venv-metal/lib/python3.10/site-packages (from py7zr>=0.16.0->soundata) (5.9.4)\n",
      "Requirement already satisfied: charset-normalizer<4,>=2 in /Users/sekwah/venv-metal/lib/python3.10/site-packages (from requests>=2.31.0->soundata) (3.3.2)\n",
      "Requirement already satisfied: idna<4,>=2.5 in /Users/sekwah/venv-metal/lib/python3.10/site-packages (from requests>=2.31.0->soundata) (2.8)\n",
      "Requirement already satisfied: urllib3<3,>=1.21.1 in /Users/sekwah/venv-metal/lib/python3.10/site-packages (from requests>=2.31.0->soundata) (1.25.8)\n",
      "Requirement already satisfied: certifi>=2017.4.17 in /Users/sekwah/venv-metal/lib/python3.10/site-packages (from requests>=2.31.0->soundata) (2019.11.28)\n",
      "Requirement already satisfied: matplotlib!=3.6.1,>=3.1 in /Users/sekwah/venv-metal/lib/python3.10/site-packages (from seaborn>=0.11.2->soundata) (3.7.1)\n",
      "Requirement already satisfied: backcall in /Users/sekwah/venv-metal/lib/python3.10/site-packages (from ipython>=6.1.0->ipywidgets>=8.1.1->soundata) (0.2.0)\n",
      "Requirement already satisfied: jedi>=0.16 in /Users/sekwah/venv-metal/lib/python3.10/site-packages (from ipython>=6.1.0->ipywidgets>=8.1.1->soundata) (0.18.2)\n",
      "Requirement already satisfied: matplotlib-inline in /Users/sekwah/venv-metal/lib/python3.10/site-packages (from ipython>=6.1.0->ipywidgets>=8.1.1->soundata) (0.1.6)\n",
      "Requirement already satisfied: pickleshare in /Users/sekwah/venv-metal/lib/python3.10/site-packages (from ipython>=6.1.0->ipywidgets>=8.1.1->soundata) (0.7.5)\n",
      "Requirement already satisfied: prompt-toolkit!=3.0.37,<3.1.0,>=3.0.30 in /Users/sekwah/venv-metal/lib/python3.10/site-packages (from ipython>=6.1.0->ipywidgets>=8.1.1->soundata) (3.0.38)\n",
      "Requirement already satisfied: pygments>=2.4.0 in /Users/sekwah/venv-metal/lib/python3.10/site-packages (from ipython>=6.1.0->ipywidgets>=8.1.1->soundata) (2.14.0)\n",
      "Requirement already satisfied: stack-data in /Users/sekwah/venv-metal/lib/python3.10/site-packages (from ipython>=6.1.0->ipywidgets>=8.1.1->soundata) (0.6.2)\n",
      "Requirement already satisfied: pexpect>4.3 in /Users/sekwah/venv-metal/lib/python3.10/site-packages (from ipython>=6.1.0->ipywidgets>=8.1.1->soundata) (4.8.0)\n",
      "Requirement already satisfied: appnope in /Users/sekwah/venv-metal/lib/python3.10/site-packages (from ipython>=6.1.0->ipywidgets>=8.1.1->soundata) (0.1.4)\n",
      "Requirement already satisfied: attrs>=17.4.0 in /Users/sekwah/venv-metal/lib/python3.10/site-packages (from jsonschema>=3.0.0->jams>=0.3.4->soundata) (22.2.0)\n",
      "Requirement already satisfied: pyrsistent!=0.17.0,!=0.17.1,!=0.17.2,>=0.14.0 in /Users/sekwah/venv-metal/lib/python3.10/site-packages (from jsonschema>=3.0.0->jams>=0.3.4->soundata) (0.19.3)\n",
      "Requirement already satisfied: contourpy>=1.0.1 in /Users/sekwah/venv-metal/lib/python3.10/site-packages (from matplotlib!=3.6.1,>=3.1->seaborn>=0.11.2->soundata) (1.0.7)\n",
      "Requirement already satisfied: cycler>=0.10 in /Users/sekwah/venv-metal/lib/python3.10/site-packages (from matplotlib!=3.6.1,>=3.1->seaborn>=0.11.2->soundata) (0.11.0)\n",
      "Requirement already satisfied: fonttools>=4.22.0 in /Users/sekwah/venv-metal/lib/python3.10/site-packages (from matplotlib!=3.6.1,>=3.1->seaborn>=0.11.2->soundata) (4.39.2)\n",
      "Requirement already satisfied: kiwisolver>=1.0.1 in /Users/sekwah/venv-metal/lib/python3.10/site-packages (from matplotlib!=3.6.1,>=3.1->seaborn>=0.11.2->soundata) (1.4.4)\n",
      "Requirement already satisfied: packaging>=20.0 in /Users/sekwah/venv-metal/lib/python3.10/site-packages (from matplotlib!=3.6.1,>=3.1->seaborn>=0.11.2->soundata) (23.0)\n",
      "Requirement already satisfied: pillow>=6.2.0 in /Users/sekwah/venv-metal/lib/python3.10/site-packages (from matplotlib!=3.6.1,>=3.1->seaborn>=0.11.2->soundata) (9.4.0)\n",
      "Requirement already satisfied: pyparsing>=2.3.1 in /Users/sekwah/venv-metal/lib/python3.10/site-packages (from matplotlib!=3.6.1,>=3.1->seaborn>=0.11.2->soundata) (3.0.9)\n",
      "Requirement already satisfied: future in /Users/sekwah/venv-metal/lib/python3.10/site-packages (from mir-eval>=0.5->jams>=0.3.4->soundata) (1.0.0)\n",
      "Requirement already satisfied: llvmlite<0.41,>=0.40.0dev0 in /Users/sekwah/venv-metal/lib/python3.10/site-packages (from numba>=0.51.0->librosa>=0.10.0->soundata) (0.40.1)\n",
      "Requirement already satisfied: appdirs>=1.3.0 in /Users/sekwah/venv-metal/lib/python3.10/site-packages (from pooch<1.7,>=1.0->librosa>=0.10.0->soundata) (1.4.4)\n"
     ]
    },
    {
     "name": "stdout",
     "output_type": "stream",
     "text": [
      "Requirement already satisfied: threadpoolctl>=2.0.0 in /Users/sekwah/venv-metal/lib/python3.10/site-packages (from scikit-learn>=0.20.0->librosa>=0.10.0->soundata) (3.1.0)\n",
      "Requirement already satisfied: cffi>=1.0 in /Users/sekwah/venv-metal/lib/python3.10/site-packages (from soundfile>=0.12.1->librosa>=0.10.0->soundata) (1.15.1)\n",
      "Requirement already satisfied: pycparser in /Users/sekwah/venv-metal/lib/python3.10/site-packages (from cffi>=1.0->soundfile>=0.12.1->librosa>=0.10.0->soundata) (2.21)\n",
      "Requirement already satisfied: parso<0.9.0,>=0.8.0 in /Users/sekwah/venv-metal/lib/python3.10/site-packages (from jedi>=0.16->ipython>=6.1.0->ipywidgets>=8.1.1->soundata) (0.8.3)\n",
      "Requirement already satisfied: ptyprocess>=0.5 in /Users/sekwah/venv-metal/lib/python3.10/site-packages (from pexpect>4.3->ipython>=6.1.0->ipywidgets>=8.1.1->soundata) (0.7.0)\n",
      "Requirement already satisfied: wcwidth in /Users/sekwah/venv-metal/lib/python3.10/site-packages (from prompt-toolkit!=3.0.37,<3.1.0,>=3.0.30->ipython>=6.1.0->ipywidgets>=8.1.1->soundata) (0.2.6)\n",
      "Requirement already satisfied: executing>=1.2.0 in /Users/sekwah/venv-metal/lib/python3.10/site-packages (from stack-data->ipython>=6.1.0->ipywidgets>=8.1.1->soundata) (1.2.0)\n",
      "Requirement already satisfied: asttokens>=2.1.0 in /Users/sekwah/venv-metal/lib/python3.10/site-packages (from stack-data->ipython>=6.1.0->ipywidgets>=8.1.1->soundata) (2.2.1)\n",
      "Requirement already satisfied: pure-eval in /Users/sekwah/venv-metal/lib/python3.10/site-packages (from stack-data->ipython>=6.1.0->ipywidgets>=8.1.1->soundata) (0.2.2)\n"
     ]
    }
   ],
   "source": [
    "!pip install soundata"
   ]
  },
  {
   "cell_type": "code",
   "execution_count": null,
   "id": "ce2dd29f",
   "metadata": {},
   "outputs": [
    {
     "name": "stderr",
     "output_type": "stream",
     "text": [
      "/Users/sekwah/venv-metal/lib/python3.10/site-packages/pydub/utils.py:170: RuntimeWarning: Couldn't find ffmpeg or avconv - defaulting to ffmpeg, but may not work\n",
      "  warn(\"Couldn't find ffmpeg or avconv - defaulting to ffmpeg, but may not work\", RuntimeWarning)\n",
      "INFO: Failed to extract font properties from /System/Library/Fonts/Supplemental/NISC18030.ttf: In FT2Font: Could not set the fontsize (invalid pixel size; error code 0x17)\n",
      "INFO: Failed to extract font properties from /System/Library/Fonts/LastResort.otf: tuple indices must be integers or slices, not str\n",
      "INFO: Failed to extract font properties from /System/Library/Fonts/Apple Color Emoji.ttc: In FT2Font: Could not set the fontsize (invalid pixel size; error code 0x17)\n",
      "INFO: generated new fontManager\n",
      "INFO: Downloading ['all'] to ../resources/UrbanSound8K\n",
      "INFO: [all] downloading UrbanSound8K.tar.gz\n",
      "5.61GB [17:29, 5.74MB/s]                                                                                                                                                                                 \n"
     ]
    }
   ],
   "source": [
    "import soundata\n",
    "\n",
    "# choose a dataset and download it\n",
    "dataset = soundata.initialize('urbansound8k', data_home='../resources/UrbanSound8K')\n",
    "dataset.download()\n"
   ]
  }
 ],
 "metadata": {
  "kernelspec": {
   "display_name": "Python 3 (ipykernel)",
   "language": "python",
   "name": "python3"
  },
  "language_info": {
   "codemirror_mode": {
    "name": "ipython",
    "version": 3
   },
   "file_extension": ".py",
   "mimetype": "text/x-python",
   "name": "python",
   "nbconvert_exporter": "python",
   "pygments_lexer": "ipython3",
   "version": "3.10.14"
  }
 },
 "nbformat": 4,
 "nbformat_minor": 5
}
