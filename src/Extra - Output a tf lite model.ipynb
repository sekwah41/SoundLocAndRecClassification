{
 "cells": [
  {
   "cell_type": "code",
   "execution_count": 2,
   "id": "9daaf0f0",
   "metadata": {},
   "outputs": [
    {
     "name": "stderr",
     "output_type": "stream",
     "text": [
      "2023-07-02 00:11:40.934683: W tensorflow/compiler/mlir/lite/python/tf_tfl_flatbuffer_helpers.cc:364] Ignored output_format.\n",
      "2023-07-02 00:11:40.934714: W tensorflow/compiler/mlir/lite/python/tf_tfl_flatbuffer_helpers.cc:367] Ignored drop_control_dependency.\n",
      "2023-07-02 00:11:40.934893: I tensorflow/cc/saved_model/reader.cc:45] Reading SavedModel from: sound_category_model\n",
      "2023-07-02 00:11:40.936909: I tensorflow/cc/saved_model/reader.cc:89] Reading meta graph with tags { serve }\n",
      "2023-07-02 00:11:40.936919: I tensorflow/cc/saved_model/reader.cc:130] Reading SavedModel debug info (if present) from: sound_category_model\n",
      "2023-07-02 00:11:40.941555: I tensorflow/cc/saved_model/loader.cc:231] Restoring SavedModel bundle.\n",
      "2023-07-02 00:11:40.963798: I tensorflow/cc/saved_model/loader.cc:215] Running initialization op on SavedModel bundle at path: sound_category_model\n",
      "2023-07-02 00:11:40.972084: I tensorflow/cc/saved_model/loader.cc:314] SavedModel load for tags { serve }; Status: success: OK. Took 37192 microseconds.\n"
     ]
    }
   ],
   "source": [
    "import tensorflow as tf\n",
    "\n",
    "# Convert the model\n",
    "converter = tf.lite.TFLiteConverter.from_saved_model(\"sound_category_model\") # path to the SavedModel directory\n",
    "tflite_model = converter.convert()\n",
    "\n",
    "# Save the model.\n",
    "with open('sound_category_model.tflite', 'wb') as f:\n",
    "  f.write(tflite_model)\n",
    "\n",
    "# Possibly modify the webserver code to run this https://www.tensorflow.org/lite/guide/inference#load_and_run_a_model_in_python\n"
   ]
  },
  {
   "cell_type": "markdown",
   "id": "2c198cf1",
   "metadata": {},
   "source": [
    "# Optimisation experiments\n",
    "\n",
    "See https://www.tensorflow.org/model_optimization/guide/quantization/post_training\n",
    "\n",
    "It has an example surrounding improving latency, processing and power usage but requires training data."
   ]
  },
  {
   "cell_type": "code",
   "execution_count": 5,
   "id": "2f2ad88a",
   "metadata": {},
   "outputs": [
    {
     "name": "stderr",
     "output_type": "stream",
     "text": [
      "2023-07-02 00:15:50.570328: W tensorflow/compiler/mlir/lite/python/tf_tfl_flatbuffer_helpers.cc:364] Ignored output_format.\n",
      "2023-07-02 00:15:50.570355: W tensorflow/compiler/mlir/lite/python/tf_tfl_flatbuffer_helpers.cc:367] Ignored drop_control_dependency.\n",
      "2023-07-02 00:15:50.570532: I tensorflow/cc/saved_model/reader.cc:45] Reading SavedModel from: sound_category_model\n",
      "2023-07-02 00:15:50.572027: I tensorflow/cc/saved_model/reader.cc:89] Reading meta graph with tags { serve }\n",
      "2023-07-02 00:15:50.572035: I tensorflow/cc/saved_model/reader.cc:130] Reading SavedModel debug info (if present) from: sound_category_model\n",
      "2023-07-02 00:15:50.575445: I tensorflow/cc/saved_model/loader.cc:231] Restoring SavedModel bundle.\n",
      "2023-07-02 00:15:50.597392: I tensorflow/cc/saved_model/loader.cc:215] Running initialization op on SavedModel bundle at path: sound_category_model\n",
      "2023-07-02 00:15:50.605006: I tensorflow/cc/saved_model/loader.cc:314] SavedModel load for tags { serve }; Status: success: OK. Took 34475 microseconds.\n"
     ]
    }
   ],
   "source": [
    "import tensorflow as tf\n",
    "\n",
    "converter = tf.lite.TFLiteConverter.from_saved_model(\"sound_category_model\")\n",
    "converter.optimizations = [tf.lite.Optimize.DEFAULT]\n",
    "tflite_quant_model = converter.convert()"
   ]
  },
  {
   "cell_type": "code",
   "execution_count": null,
   "id": "441e8fac",
   "metadata": {},
   "outputs": [],
   "source": []
  }
 ],
 "metadata": {
  "kernelspec": {
   "display_name": "Python 3 (ipykernel)",
   "language": "python",
   "name": "python3"
  },
  "language_info": {
   "codemirror_mode": {
    "name": "ipython",
    "version": 3
   },
   "file_extension": ".py",
   "mimetype": "text/x-python",
   "name": "python",
   "nbconvert_exporter": "python",
   "pygments_lexer": "ipython3",
   "version": "3.8.10"
  }
 },
 "nbformat": 4,
 "nbformat_minor": 5
}
