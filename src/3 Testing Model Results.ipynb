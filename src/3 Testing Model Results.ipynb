{
 "cells": [
  {
   "cell_type": "markdown",
   "metadata": {},
   "source": [
    "### Import trained model\n",
    "Run `nvidia-smi -l 1` to check the memory being used by what.\n",
    "You will need to restart the kernel if the program is crashing as jupyter stays allive and keeps the data in the memory."
   ]
  },
  {
   "cell_type": "code",
   "execution_count": 1,
   "metadata": {
    "pycharm": {
     "is_executing": false
    }
   },
   "outputs": [
    {
     "name": "stderr",
     "output_type": "stream",
     "text": [
      "2023-07-01 17:07:13.707675: I tensorflow/core/platform/cpu_feature_guard.cc:182] This TensorFlow binary is optimized to use available CPU instructions in performance-critical operations.\n",
      "To enable the following instructions: AVX2 FMA, in other operations, rebuild TensorFlow with the appropriate compiler flags.\n",
      "2023-07-01 17:07:15.492997: I tensorflow/compiler/xla/stream_executor/cuda/cuda_gpu_executor.cc:996] successful NUMA node read from SysFS had negative value (-1), but there must be at least one NUMA node, so returning NUMA node zero. See more at https://github.com/torvalds/linux/blob/v6.0/Documentation/ABI/testing/sysfs-bus-pci#L344-L355\n",
      "2023-07-01 17:07:15.496693: I tensorflow/compiler/xla/stream_executor/cuda/cuda_gpu_executor.cc:996] successful NUMA node read from SysFS had negative value (-1), but there must be at least one NUMA node, so returning NUMA node zero. See more at https://github.com/torvalds/linux/blob/v6.0/Documentation/ABI/testing/sysfs-bus-pci#L344-L355\n",
      "2023-07-01 17:07:15.496847: I tensorflow/compiler/xla/stream_executor/cuda/cuda_gpu_executor.cc:996] successful NUMA node read from SysFS had negative value (-1), but there must be at least one NUMA node, so returning NUMA node zero. See more at https://github.com/torvalds/linux/blob/v6.0/Documentation/ABI/testing/sysfs-bus-pci#L344-L355\n",
      "2023-07-01 17:07:15.497976: I tensorflow/compiler/xla/stream_executor/cuda/cuda_gpu_executor.cc:996] successful NUMA node read from SysFS had negative value (-1), but there must be at least one NUMA node, so returning NUMA node zero. See more at https://github.com/torvalds/linux/blob/v6.0/Documentation/ABI/testing/sysfs-bus-pci#L344-L355\n",
      "2023-07-01 17:07:15.498107: I tensorflow/compiler/xla/stream_executor/cuda/cuda_gpu_executor.cc:996] successful NUMA node read from SysFS had negative value (-1), but there must be at least one NUMA node, so returning NUMA node zero. See more at https://github.com/torvalds/linux/blob/v6.0/Documentation/ABI/testing/sysfs-bus-pci#L344-L355\n",
      "2023-07-01 17:07:15.498221: I tensorflow/compiler/xla/stream_executor/cuda/cuda_gpu_executor.cc:996] successful NUMA node read from SysFS had negative value (-1), but there must be at least one NUMA node, so returning NUMA node zero. See more at https://github.com/torvalds/linux/blob/v6.0/Documentation/ABI/testing/sysfs-bus-pci#L344-L355\n",
      "2023-07-01 17:07:15.554226: I tensorflow/compiler/xla/stream_executor/cuda/cuda_gpu_executor.cc:996] successful NUMA node read from SysFS had negative value (-1), but there must be at least one NUMA node, so returning NUMA node zero. See more at https://github.com/torvalds/linux/blob/v6.0/Documentation/ABI/testing/sysfs-bus-pci#L344-L355\n",
      "2023-07-01 17:07:15.554402: I tensorflow/compiler/xla/stream_executor/cuda/cuda_gpu_executor.cc:996] successful NUMA node read from SysFS had negative value (-1), but there must be at least one NUMA node, so returning NUMA node zero. See more at https://github.com/torvalds/linux/blob/v6.0/Documentation/ABI/testing/sysfs-bus-pci#L344-L355\n",
      "2023-07-01 17:07:15.554528: I tensorflow/compiler/xla/stream_executor/cuda/cuda_gpu_executor.cc:996] successful NUMA node read from SysFS had negative value (-1), but there must be at least one NUMA node, so returning NUMA node zero. See more at https://github.com/torvalds/linux/blob/v6.0/Documentation/ABI/testing/sysfs-bus-pci#L344-L355\n",
      "2023-07-01 17:07:15.554634: I tensorflow/core/common_runtime/gpu/gpu_device.cc:1635] Created device /job:localhost/replica:0/task:0/device:GPU:0 with 9085 MB memory:  -> device: 0, name: NVIDIA GeForce GTX 1080 Ti, pci bus id: 0000:09:00.0, compute capability: 6.1\n"
     ]
    }
   ],
   "source": [
    "import pickle\n",
    "import keras\n",
    "# Has to be imported before librosa due to an odd bug https://github.com/matplotlib/matplotlib/issues/25506\n",
    "import matplotlib.pyplot as plt\n",
    "import librosa\n",
    "import librosa.display\n",
    "import numpy as np\n",
    "from sklearn import metrics\n",
    "import tensorflow as tf\n",
    "from keras.models import load_model\n",
    "\n",
    "#sound_model_file = \"sound_model.pkl\"\n",
    "label_encoder_file = \"labelencoder.pkl\"\n",
    "\n",
    "\n",
    "model = None\n",
    "\n",
    "model = load_model('sound_category_model')\n",
    "\n",
    "#with open(sound_model_file, 'rb') as file:\n",
    "#    model = pickle.load(file)\n",
    "\n",
    "with open(label_encoder_file, 'rb') as file:\n",
    "    le = pickle.load(file)\n",
    "\n",
    "%store -r x_train \n",
    "%store -r x_test \n",
    "%store -r y_train \n",
    "%store -r y_test \n",
    "#%store -r model \n",
    "#%store -r le\n",
    "%store -r X\n",
    "%store -r y"
   ]
  },
  {
   "cell_type": "code",
   "execution_count": 2,
   "metadata": {
    "pycharm": {
     "is_executing": false
    }
   },
   "outputs": [],
   "source": [
    "usl = \"../resources/UrbanSound8K/\""
   ]
  },
  {
   "cell_type": "code",
   "execution_count": 3,
   "metadata": {
    "pycharm": {
     "is_executing": false
    }
   },
   "outputs": [
    {
     "name": "stdout",
     "output_type": "stream",
     "text": [
      "\r",
      "  1/209 [..............................] - ETA: 1:06 - loss: 0.0888 - accuracy: 0.9688"
     ]
    },
    {
     "name": "stderr",
     "output_type": "stream",
     "text": [
      "2023-07-01 17:07:22.767947: I tensorflow/compiler/xla/stream_executor/cuda/cuda_dnn.cc:424] Loaded cuDNN version 8600\n"
     ]
    },
    {
     "name": "stdout",
     "output_type": "stream",
     "text": [
      "209/209 [==============================] - 1s 2ms/step - loss: 0.0287 - accuracy: 0.9928\n",
      "Training Accuracy:  0.9928207993507385\n",
      "53/53 [==============================] - 0s 2ms/step - loss: 0.2604 - accuracy: 0.9360\n",
      "Testing Accuracy:  0.9360047578811646\n"
     ]
    }
   ],
   "source": [
    "# You may need to re-run this sometimes for some reason on later versions of tensorflow in nvidia docker\n",
    "num_rows = 40\n",
    "num_columns = 174\n",
    "num_channels = 1\n",
    "\n",
    "max_pad_len = 174\n",
    "\n",
    "x_train = x_train.reshape(x_train.shape[0], num_rows, num_columns, num_channels)\n",
    "x_test = x_test.reshape(x_test.shape[0], num_rows, num_columns, num_channels)\n",
    "\n",
    "# Evaluating the model on the training and testing set\n",
    "score = model.evaluate(x_train, y_train, verbose=1)\n",
    "print(\"Training Accuracy: \", score[1])\n",
    "\n",
    "score = model.evaluate(x_test, y_test, verbose=1)\n",
    "print(\"Testing Accuracy: \", score[1])"
   ]
  },
  {
   "cell_type": "code",
   "execution_count": 4,
   "metadata": {
    "pycharm": {
     "is_executing": false
    }
   },
   "outputs": [],
   "source": [
    "def prediction(file_name, print_data = False):\n",
    "    prediction_feature = extract_features(file_name) \n",
    "    prediction_feature = prediction_feature.reshape(1, num_rows, num_columns, num_channels)\n",
    "\n",
    "    predicted_proba_vector = model.predict(prediction_feature)\n",
    "    predicted_vector = np.argmax(predicted_proba_vector,axis=1)\n",
    "    predicted_class = le.inverse_transform(predicted_vector)\n",
    "    predicted_proba = predicted_proba_vector[0]\n",
    "    if print_data:\n",
    "        print(\"The predicted class is:\", predicted_class[0], '\\n') \n",
    "        \n",
    "        for i in range(len(predicted_proba)): \n",
    "            category = le.inverse_transform(np.array([i]))\n",
    "            print(category[0], \"\\t\\t : \", format(predicted_proba[i], '.32f') )\n",
    "    return (predicted_class[0], format(predicted_proba[predicted_vector[0]] * 100, '.32f'))"
   ]
  },
  {
   "cell_type": "code",
   "execution_count": 5,
   "metadata": {
    "pycharm": {
     "is_executing": false
    }
   },
   "outputs": [],
   "source": [
    "def extract_features(file_name):\n",
    "   \n",
    "    try:\n",
    "        audio, sample_rate = librosa.load(file_name, res_type='kaiser_fast') \n",
    "        mfccs = librosa.feature.mfcc(y=audio, sr=sample_rate, n_mfcc=40)\n",
    "        pad_width = max_pad_len - mfccs.shape[1]\n",
    "        mfccs = np.pad(mfccs, pad_width=((0, 0), (0, pad_width)), mode='constant')\n",
    "        \n",
    "    except Exception as e:\n",
    "        print(\"Error encountered while parsing file: \", file_name, e)\n",
    "        return None \n",
    "     \n",
    "    return mfccs"
   ]
  },
  {
   "cell_type": "code",
   "execution_count": 6,
   "metadata": {
    "pycharm": {
     "is_executing": false
    }
   },
   "outputs": [
    {
     "name": "stdout",
     "output_type": "stream",
     "text": [
      "1/1 [==============================] - 0s 115ms/step\n",
      "The predicted class is: air_conditioner \n",
      "\n",
      "air_conditioner \t\t :  1.00000000000000000000000000000000\n",
      "car_horn \t\t :  0.00000000000000000091631397644656\n",
      "children_playing \t\t :  0.00000000225712049051196572690969\n",
      "dog_bark \t\t :  0.00000000002206590812847686322584\n",
      "drilling \t\t :  0.00000000000601410241052313665477\n",
      "engine_idling \t\t :  0.00000000051108095533436426194385\n",
      "jackhammer \t\t :  0.00000000001710345753913600219676\n",
      "siren \t\t :  0.00000000000053103804990503600258\n",
      "street_music \t\t :  0.00000000000754606446773387062876\n"
     ]
    },
    {
     "data": {
      "text/plain": [
       "('air_conditioner', '100.00000000000000000000000000000000')"
      ]
     },
     "execution_count": 6,
     "metadata": {},
     "output_type": "execute_result"
    }
   ],
   "source": [
    "# Class: Air Conditioner\n",
    "\n",
    "filename = usl + 'audio/fold5/100852-0-0-0.wav' \n",
    "prediction(filename, True) "
   ]
  },
  {
   "cell_type": "code",
   "execution_count": 7,
   "metadata": {
    "pycharm": {
     "is_executing": false
    }
   },
   "outputs": [
    {
     "name": "stdout",
     "output_type": "stream",
     "text": [
      "53/53 [==============================] - 0s 1ms/step\n"
     ]
    }
   ],
   "source": [
    "# You may need to re-run this sometimes for some reason on later versions of tensorflow in nvidia docker\n",
    "predictions = model.predict(x_test)\n",
    "y_pred = (predictions > 0.5)\n",
    "matrix = metrics.confusion_matrix(y_test.argmax(axis=1), y_pred.argmax(axis=1))"
   ]
  },
  {
   "cell_type": "markdown",
   "metadata": {
    "pycharm": {
     "name": "#%% md\n"
    }
   },
   "source": [
    "### Checking data from testing for more info"
   ]
  },
  {
   "cell_type": "code",
   "execution_count": 8,
   "metadata": {
    "pycharm": {
     "is_executing": false
    },
    "scrolled": true
   },
   "outputs": [
    {
     "data": {
      "image/png": "[encoded data removed]",
      "text/plain": [
       "<Figure size 640x480 with 2 Axes>"
      ]
     },
     "metadata": {},
     "output_type": "display_data"
    }
   ],
   "source": [
    "import seaborn as sns\n",
    "\n",
    "label_names = le.classes_\n",
    "\n",
    "plt.figure()\n",
    "ax= plt.subplot(111)\n",
    "sns.heatmap(matrix, annot=True, ax = ax, fmt='g')\n",
    "\n",
    "ax.set_xlabel('Predicted labels')\n",
    "ax.set_ylabel('True labels')\n",
    "ax.set_title('Confusion Matrix (General Sounds)')\n",
    "ax.xaxis.set_ticklabels(label_names, rotation='vertical');\n",
    "ax.yaxis.set_ticklabels(label_names, rotation='horizontal');\n",
    "\n",
    "plt.savefig('confusion_matrix.png', bbox_inches='tight')\n",
    "\n",
    "plt.show()"
   ]
  },
  {
   "cell_type": "code",
   "execution_count": 14,
   "metadata": {},
   "outputs": [
    {
     "data": {
      "image/svg+xml": [
       "<svg xmlns=\"http://www.w3.org/2000/svg\" xmlns:xlink=\"http://www.w3.org/1999/xlink\" width=\"559pt\" height=\"1423pt\" viewBox=\"0.00 0.00 419.00 1067.00\">\n",
       "<g id=\"graph0\" class=\"graph\" transform=\"scale(0.75 0.75) rotate(0) translate(4 1063)\">\n",
       "<title>G</title>\n",
       "<polygon fill=\"white\" stroke=\"transparent\" points=\"-4,4 -4,-1063 415,-1063 415,4 -4,4\"/>\n",
       "<!-- 139880145918272 -->\n",
       "<g id=\"node1\" class=\"node\">\n",
       "<title>139880145918272</title>\n",
       "<polygon fill=\"none\" stroke=\"black\" points=\"94,-1022.5 94,-1058.5 317,-1058.5 317,-1022.5 94,-1022.5\"/>\n",
       "<text text-anchor=\"middle\" x=\"158\" y=\"-1036.8\" font-family=\"Times,serif\" font-size=\"14.00\">conv2d_4_input</text>\n",
       "<polyline fill=\"none\" stroke=\"black\" points=\"222,-1022.5 222,-1058.5 \"/>\n",
       "<text text-anchor=\"middle\" x=\"269.5\" y=\"-1036.8\" font-family=\"Times,serif\" font-size=\"14.00\">InputLayer</text>\n",
       "</g>\n",
       "<!-- 139880126189968 -->\n",
       "<g id=\"node2\" class=\"node\">\n",
       "<title>139880126189968</title>\n",
       "<polygon fill=\"none\" stroke=\"black\" points=\"127.5,-949.5 127.5,-985.5 283.5,-985.5 283.5,-949.5 127.5,-949.5\"/>\n",
       "<text text-anchor=\"middle\" x=\"169\" y=\"-963.8\" font-family=\"Times,serif\" font-size=\"14.00\">conv2d_4</text>\n",
       "<polyline fill=\"none\" stroke=\"black\" points=\"210.5,-949.5 210.5,-985.5 \"/>\n",
       "<text text-anchor=\"middle\" x=\"247\" y=\"-963.8\" font-family=\"Times,serif\" font-size=\"14.00\">Conv2D</text>\n",
       "</g>\n",
       "<!-- 139880145918272&#45;&gt;139880126189968 -->\n",
       "<g id=\"edge1\" class=\"edge\">\n",
       "<title>139880145918272-&gt;139880126189968</title>\n",
       "<path fill=\"none\" stroke=\"black\" d=\"M205.5,-1022.31C205.5,-1014.29 205.5,-1004.55 205.5,-995.57\"/>\n",
       "<polygon fill=\"black\" stroke=\"black\" points=\"209,-995.53 205.5,-985.53 202,-995.53 209,-995.53\"/>\n",
       "</g>\n",
       "<!-- 139880126192224 -->\n",
       "<g id=\"node3\" class=\"node\">\n",
       "<title>139880126192224</title>\n",
       "<polygon fill=\"none\" stroke=\"black\" points=\"75.5,-876.5 75.5,-912.5 335.5,-912.5 335.5,-876.5 75.5,-876.5\"/>\n",
       "<text text-anchor=\"middle\" x=\"145.5\" y=\"-890.8\" font-family=\"Times,serif\" font-size=\"14.00\">max_pooling2d_4</text>\n",
       "<polyline fill=\"none\" stroke=\"black\" points=\"215.5,-876.5 215.5,-912.5 \"/>\n",
       "<text text-anchor=\"middle\" x=\"275.5\" y=\"-890.8\" font-family=\"Times,serif\" font-size=\"14.00\">MaxPooling2D</text>\n",
       "</g>\n",
       "<!-- 139880126189968&#45;&gt;139880126192224 -->\n",
       "<g id=\"edge2\" class=\"edge\">\n",
       "<title>139880126189968-&gt;139880126192224</title>\n",
       "<path fill=\"none\" stroke=\"black\" d=\"M205.5,-949.31C205.5,-941.29 205.5,-931.55 205.5,-922.57\"/>\n",
       "<polygon fill=\"black\" stroke=\"black\" points=\"209,-922.53 205.5,-912.53 202,-922.53 209,-922.53\"/>\n",
       "</g>\n",
       "<!-- 139880106043712 -->\n",
       "<g id=\"node4\" class=\"node\">\n",
       "<title>139880106043712</title>\n",
       "<polygon fill=\"none\" stroke=\"black\" points=\"123.5,-803.5 123.5,-839.5 287.5,-839.5 287.5,-803.5 123.5,-803.5\"/>\n",
       "<text text-anchor=\"middle\" x=\"168\" y=\"-817.8\" font-family=\"Times,serif\" font-size=\"14.00\">dropout_4</text>\n",
       "<polyline fill=\"none\" stroke=\"black\" points=\"212.5,-803.5 212.5,-839.5 \"/>\n",
       "<text text-anchor=\"middle\" x=\"250\" y=\"-817.8\" font-family=\"Times,serif\" font-size=\"14.00\">Dropout</text>\n",
       "</g>\n",
       "<!-- 139880126192224&#45;&gt;139880106043712 -->\n",
       "<g id=\"edge3\" class=\"edge\">\n",
       "<title>139880126192224-&gt;139880106043712</title>\n",
       "<path fill=\"none\" stroke=\"black\" d=\"M205.5,-876.31C205.5,-868.29 205.5,-858.55 205.5,-849.57\"/>\n",
       "<polygon fill=\"black\" stroke=\"black\" points=\"209,-849.53 205.5,-839.53 202,-849.53 209,-849.53\"/>\n",
       "</g>\n",
       "<!-- 139880105759840 -->\n",
       "<g id=\"node5\" class=\"node\">\n",
       "<title>139880105759840</title>\n",
       "<polygon fill=\"none\" stroke=\"black\" points=\"127.5,-730.5 127.5,-766.5 283.5,-766.5 283.5,-730.5 127.5,-730.5\"/>\n",
       "<text text-anchor=\"middle\" x=\"169\" y=\"-744.8\" font-family=\"Times,serif\" font-size=\"14.00\">conv2d_5</text>\n",
       "<polyline fill=\"none\" stroke=\"black\" points=\"210.5,-730.5 210.5,-766.5 \"/>\n",
       "<text text-anchor=\"middle\" x=\"247\" y=\"-744.8\" font-family=\"Times,serif\" font-size=\"14.00\">Conv2D</text>\n",
       "</g>\n",
       "<!-- 139880106043712&#45;&gt;139880105759840 -->\n",
       "<g id=\"edge4\" class=\"edge\">\n",
       "<title>139880106043712-&gt;139880105759840</title>\n",
       "<path fill=\"none\" stroke=\"black\" d=\"M205.5,-803.31C205.5,-795.29 205.5,-785.55 205.5,-776.57\"/>\n",
       "<polygon fill=\"black\" stroke=\"black\" points=\"209,-776.53 205.5,-766.53 202,-776.53 209,-776.53\"/>\n",
       "</g>\n",
       "<!-- 139880105760656 -->\n",
       "<g id=\"node6\" class=\"node\">\n",
       "<title>139880105760656</title>\n",
       "<polygon fill=\"none\" stroke=\"black\" points=\"75.5,-657.5 75.5,-693.5 335.5,-693.5 335.5,-657.5 75.5,-657.5\"/>\n",
       "<text text-anchor=\"middle\" x=\"145.5\" y=\"-671.8\" font-family=\"Times,serif\" font-size=\"14.00\">max_pooling2d_5</text>\n",
       "<polyline fill=\"none\" stroke=\"black\" points=\"215.5,-657.5 215.5,-693.5 \"/>\n",
       "<text text-anchor=\"middle\" x=\"275.5\" y=\"-671.8\" font-family=\"Times,serif\" font-size=\"14.00\">MaxPooling2D</text>\n",
       "</g>\n",
       "<!-- 139880105759840&#45;&gt;139880105760656 -->\n",
       "<g id=\"edge5\" class=\"edge\">\n",
       "<title>139880105759840-&gt;139880105760656</title>\n",
       "<path fill=\"none\" stroke=\"black\" d=\"M205.5,-730.31C205.5,-722.29 205.5,-712.55 205.5,-703.57\"/>\n",
       "<polygon fill=\"black\" stroke=\"black\" points=\"209,-703.53 205.5,-693.53 202,-703.53 209,-703.53\"/>\n",
       "</g>\n",
       "<!-- 139880105835104 -->\n",
       "<g id=\"node7\" class=\"node\">\n",
       "<title>139880105835104</title>\n",
       "<polygon fill=\"none\" stroke=\"black\" points=\"123.5,-584.5 123.5,-620.5 287.5,-620.5 287.5,-584.5 123.5,-584.5\"/>\n",
       "<text text-anchor=\"middle\" x=\"168\" y=\"-598.8\" font-family=\"Times,serif\" font-size=\"14.00\">dropout_5</text>\n",
       "<polyline fill=\"none\" stroke=\"black\" points=\"212.5,-584.5 212.5,-620.5 \"/>\n",
       "<text text-anchor=\"middle\" x=\"250\" y=\"-598.8\" font-family=\"Times,serif\" font-size=\"14.00\">Dropout</text>\n",
       "</g>\n",
       "<!-- 139880105760656&#45;&gt;139880105835104 -->\n",
       "<g id=\"edge6\" class=\"edge\">\n",
       "<title>139880105760656-&gt;139880105835104</title>\n",
       "<path fill=\"none\" stroke=\"black\" d=\"M205.5,-657.31C205.5,-649.29 205.5,-639.55 205.5,-630.57\"/>\n",
       "<polygon fill=\"black\" stroke=\"black\" points=\"209,-630.53 205.5,-620.53 202,-630.53 209,-630.53\"/>\n",
       "</g>\n",
       "<!-- 139880105923968 -->\n",
       "<g id=\"node8\" class=\"node\">\n",
       "<title>139880105923968</title>\n",
       "<polygon fill=\"none\" stroke=\"black\" points=\"127.5,-511.5 127.5,-547.5 283.5,-547.5 283.5,-511.5 127.5,-511.5\"/>\n",
       "<text text-anchor=\"middle\" x=\"169\" y=\"-525.8\" font-family=\"Times,serif\" font-size=\"14.00\">conv2d_6</text>\n",
       "<polyline fill=\"none\" stroke=\"black\" points=\"210.5,-511.5 210.5,-547.5 \"/>\n",
       "<text text-anchor=\"middle\" x=\"247\" y=\"-525.8\" font-family=\"Times,serif\" font-size=\"14.00\">Conv2D</text>\n",
       "</g>\n",
       "<!-- 139880105835104&#45;&gt;139880105923968 -->\n",
       "<g id=\"edge7\" class=\"edge\">\n",
       "<title>139880105835104-&gt;139880105923968</title>\n",
       "<path fill=\"none\" stroke=\"black\" d=\"M205.5,-584.31C205.5,-576.29 205.5,-566.55 205.5,-557.57\"/>\n",
       "<polygon fill=\"black\" stroke=\"black\" points=\"209,-557.53 205.5,-547.53 202,-557.53 209,-557.53\"/>\n",
       "</g>\n",
       "<!-- 139880105924448 -->\n",
       "<g id=\"node9\" class=\"node\">\n",
       "<title>139880105924448</title>\n",
       "<polygon fill=\"none\" stroke=\"black\" points=\"75.5,-438.5 75.5,-474.5 335.5,-474.5 335.5,-438.5 75.5,-438.5\"/>\n",
       "<text text-anchor=\"middle\" x=\"145.5\" y=\"-452.8\" font-family=\"Times,serif\" font-size=\"14.00\">max_pooling2d_6</text>\n",
       "<polyline fill=\"none\" stroke=\"black\" points=\"215.5,-438.5 215.5,-474.5 \"/>\n",
       "<text text-anchor=\"middle\" x=\"275.5\" y=\"-452.8\" font-family=\"Times,serif\" font-size=\"14.00\">MaxPooling2D</text>\n",
       "</g>\n",
       "<!-- 139880105923968&#45;&gt;139880105924448 -->\n",
       "<g id=\"edge8\" class=\"edge\">\n",
       "<title>139880105923968-&gt;139880105924448</title>\n",
       "<path fill=\"none\" stroke=\"black\" d=\"M205.5,-511.31C205.5,-503.29 205.5,-493.55 205.5,-484.57\"/>\n",
       "<polygon fill=\"black\" stroke=\"black\" points=\"209,-484.53 205.5,-474.53 202,-484.53 209,-484.53\"/>\n",
       "</g>\n",
       "<!-- 139880105833760 -->\n",
       "<g id=\"node10\" class=\"node\">\n",
       "<title>139880105833760</title>\n",
       "<polygon fill=\"none\" stroke=\"black\" points=\"123.5,-365.5 123.5,-401.5 287.5,-401.5 287.5,-365.5 123.5,-365.5\"/>\n",
       "<text text-anchor=\"middle\" x=\"168\" y=\"-379.8\" font-family=\"Times,serif\" font-size=\"14.00\">dropout_6</text>\n",
       "<polyline fill=\"none\" stroke=\"black\" points=\"212.5,-365.5 212.5,-401.5 \"/>\n",
       "<text text-anchor=\"middle\" x=\"250\" y=\"-379.8\" font-family=\"Times,serif\" font-size=\"14.00\">Dropout</text>\n",
       "</g>\n",
       "<!-- 139880105924448&#45;&gt;139880105833760 -->\n",
       "<g id=\"edge9\" class=\"edge\">\n",
       "<title>139880105924448-&gt;139880105833760</title>\n",
       "<path fill=\"none\" stroke=\"black\" d=\"M205.5,-438.31C205.5,-430.29 205.5,-420.55 205.5,-411.57\"/>\n",
       "<polygon fill=\"black\" stroke=\"black\" points=\"209,-411.53 205.5,-401.53 202,-411.53 209,-411.53\"/>\n",
       "</g>\n",
       "<!-- 139880105950080 -->\n",
       "<g id=\"node11\" class=\"node\">\n",
       "<title>139880105950080</title>\n",
       "<polygon fill=\"none\" stroke=\"black\" points=\"127.5,-292.5 127.5,-328.5 283.5,-328.5 283.5,-292.5 127.5,-292.5\"/>\n",
       "<text text-anchor=\"middle\" x=\"169\" y=\"-306.8\" font-family=\"Times,serif\" font-size=\"14.00\">conv2d_7</text>\n",
       "<polyline fill=\"none\" stroke=\"black\" points=\"210.5,-292.5 210.5,-328.5 \"/>\n",
       "<text text-anchor=\"middle\" x=\"247\" y=\"-306.8\" font-family=\"Times,serif\" font-size=\"14.00\">Conv2D</text>\n",
       "</g>\n",
       "<!-- 139880105833760&#45;&gt;139880105950080 -->\n",
       "<g id=\"edge10\" class=\"edge\">\n",
       "<title>139880105833760-&gt;139880105950080</title>\n",
       "<path fill=\"none\" stroke=\"black\" d=\"M205.5,-365.31C205.5,-357.29 205.5,-347.55 205.5,-338.57\"/>\n",
       "<polygon fill=\"black\" stroke=\"black\" points=\"209,-338.53 205.5,-328.53 202,-338.53 209,-338.53\"/>\n",
       "</g>\n",
       "<!-- 139879843063840 -->\n",
       "<g id=\"node12\" class=\"node\">\n",
       "<title>139879843063840</title>\n",
       "<polygon fill=\"none\" stroke=\"black\" points=\"75.5,-219.5 75.5,-255.5 335.5,-255.5 335.5,-219.5 75.5,-219.5\"/>\n",
       "<text text-anchor=\"middle\" x=\"145.5\" y=\"-233.8\" font-family=\"Times,serif\" font-size=\"14.00\">max_pooling2d_7</text>\n",
       "<polyline fill=\"none\" stroke=\"black\" points=\"215.5,-219.5 215.5,-255.5 \"/>\n",
       "<text text-anchor=\"middle\" x=\"275.5\" y=\"-233.8\" font-family=\"Times,serif\" font-size=\"14.00\">MaxPooling2D</text>\n",
       "</g>\n",
       "<!-- 139880105950080&#45;&gt;139879843063840 -->\n",
       "<g id=\"edge11\" class=\"edge\">\n",
       "<title>139880105950080-&gt;139879843063840</title>\n",
       "<path fill=\"none\" stroke=\"black\" d=\"M205.5,-292.31C205.5,-284.29 205.5,-274.55 205.5,-265.57\"/>\n",
       "<polygon fill=\"black\" stroke=\"black\" points=\"209,-265.53 205.5,-255.53 202,-265.53 209,-265.53\"/>\n",
       "</g>\n",
       "<!-- 139880105951040 -->\n",
       "<g id=\"node13\" class=\"node\">\n",
       "<title>139880105951040</title>\n",
       "<polygon fill=\"none\" stroke=\"black\" points=\"123.5,-146.5 123.5,-182.5 287.5,-182.5 287.5,-146.5 123.5,-146.5\"/>\n",
       "<text text-anchor=\"middle\" x=\"168\" y=\"-160.8\" font-family=\"Times,serif\" font-size=\"14.00\">dropout_7</text>\n",
       "<polyline fill=\"none\" stroke=\"black\" points=\"212.5,-146.5 212.5,-182.5 \"/>\n",
       "<text text-anchor=\"middle\" x=\"250\" y=\"-160.8\" font-family=\"Times,serif\" font-size=\"14.00\">Dropout</text>\n",
       "</g>\n",
       "<!-- 139879843063840&#45;&gt;139880105951040 -->\n",
       "<g id=\"edge12\" class=\"edge\">\n",
       "<title>139879843063840-&gt;139880105951040</title>\n",
       "<path fill=\"none\" stroke=\"black\" d=\"M205.5,-219.31C205.5,-211.29 205.5,-201.55 205.5,-192.57\"/>\n",
       "<polygon fill=\"black\" stroke=\"black\" points=\"209,-192.53 205.5,-182.53 202,-192.53 209,-192.53\"/>\n",
       "</g>\n",
       "<!-- 139879843087600 -->\n",
       "<g id=\"node14\" class=\"node\">\n",
       "<title>139879843087600</title>\n",
       "<polygon fill=\"none\" stroke=\"black\" points=\"0,-73.5 0,-109.5 411,-109.5 411,-73.5 0,-73.5\"/>\n",
       "<text text-anchor=\"middle\" x=\"108.5\" y=\"-87.8\" font-family=\"Times,serif\" font-size=\"14.00\">global_average_pooling2d_1</text>\n",
       "<polyline fill=\"none\" stroke=\"black\" points=\"217,-73.5 217,-109.5 \"/>\n",
       "<text text-anchor=\"middle\" x=\"314\" y=\"-87.8\" font-family=\"Times,serif\" font-size=\"14.00\">GlobalAveragePooling2D</text>\n",
       "</g>\n",
       "<!-- 139880105951040&#45;&gt;139879843087600 -->\n",
       "<g id=\"edge13\" class=\"edge\">\n",
       "<title>139880105951040-&gt;139879843087600</title>\n",
       "<path fill=\"none\" stroke=\"black\" d=\"M205.5,-146.31C205.5,-138.29 205.5,-128.55 205.5,-119.57\"/>\n",
       "<polygon fill=\"black\" stroke=\"black\" points=\"209,-119.53 205.5,-109.53 202,-119.53 209,-119.53\"/>\n",
       "</g>\n",
       "<!-- 139879843089232 -->\n",
       "<g id=\"node15\" class=\"node\">\n",
       "<title>139879843089232</title>\n",
       "<polygon fill=\"none\" stroke=\"black\" points=\"138,-0.5 138,-36.5 273,-36.5 273,-0.5 138,-0.5\"/>\n",
       "<text text-anchor=\"middle\" x=\"175\" y=\"-14.8\" font-family=\"Times,serif\" font-size=\"14.00\">dense_1</text>\n",
       "<polyline fill=\"none\" stroke=\"black\" points=\"212,-0.5 212,-36.5 \"/>\n",
       "<text text-anchor=\"middle\" x=\"242.5\" y=\"-14.8\" font-family=\"Times,serif\" font-size=\"14.00\">Dense</text>\n",
       "</g>\n",
       "<!-- 139879843087600&#45;&gt;139879843089232 -->\n",
       "<g id=\"edge14\" class=\"edge\">\n",
       "<title>139879843087600-&gt;139879843089232</title>\n",
       "<path fill=\"none\" stroke=\"black\" d=\"M205.5,-73.31C205.5,-65.29 205.5,-55.55 205.5,-46.57\"/>\n",
       "<polygon fill=\"black\" stroke=\"black\" points=\"209,-46.53 205.5,-36.53 202,-46.53 209,-46.53\"/>\n",
       "</g>\n",
       "</g>\n",
       "</svg>"
      ],
      "text/plain": [
       "<IPython.core.display.SVG object>"
      ]
     },
     "execution_count": 14,
     "metadata": {},
     "output_type": "execute_result"
    }
   ],
   "source": [
    "from IPython.display import SVG\n",
    "from keras.utils import model_to_dot\n",
    "\n",
    "# The output is a bit dodgy so you need to change the viewport value to\n",
    "# width=\"550\" height=\"1467\" viewBox=\"0.00 0.00 550.00 1467.00\"\n",
    "with open(\"model_graph.svg\", 'wb') as file:\n",
    "    file.write(model_to_dot(model).create(prog='dot', format='svg'))\n",
    "    \n",
    "SVG(\"model_graph.svg\")"
   ]
  },
  {
   "cell_type": "markdown",
   "metadata": {
    "pycharm": {
     "is_executing": false,
     "name": "#%% md\n"
    }
   },
   "source": [
    "### Test with sounds from odas"
   ]
  },
  {
   "cell_type": "code",
   "execution_count": 18,
   "metadata": {
    "pycharm": {
     "is_executing": false,
     "name": "#%%\n"
    }
   },
   "outputs": [],
   "source": [
    "from os import listdir\n",
    "from os.path import isfile, join\n",
    "\n",
    "odas_clips = \"../odassamples/\" # <-- point the odas stuff to here or shove some samples in this folder\n",
    "\n",
    "sound_files = [f for f in listdir(odas_clips) if isfile(join(odas_clips, f)) and f.endswith(\".wav\")]\n",
    "\n",
    "#print(sound_files)\n",
    "\n",
    "for file in sound_files:\n",
    "    try:\n",
    "        predict = prediction(join(odas_clips, file), False)\n",
    "        print(\"{} {}% {}\".format(predict[0], predict[1], file))\n",
    "    except:\n",
    "        print(\"Error reading file: \" + join(odas_clips, file))"
   ]
  },
  {
   "cell_type": "code",
   "execution_count": null,
   "metadata": {},
   "outputs": [],
   "source": []
  }
 ],
 "metadata": {
  "kernelspec": {
   "display_name": "Python 3 (ipykernel)",
   "language": "python",
   "name": "python3"
  },
  "language_info": {
   "codemirror_mode": {
    "name": "ipython",
    "version": 3
   },
   "file_extension": ".py",
   "mimetype": "text/x-python",
   "name": "python",
   "nbconvert_exporter": "python",
   "pygments_lexer": "ipython3",
   "version": "3.8.10"
  }
 },
 "nbformat": 4,
 "nbformat_minor": 4
}
