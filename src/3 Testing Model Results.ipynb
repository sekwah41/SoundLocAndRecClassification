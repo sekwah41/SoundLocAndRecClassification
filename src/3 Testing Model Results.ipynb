{
 "cells": [
  {
   "cell_type": "markdown",
   "metadata": {},
   "source": [
    "### Import trained model\n",
    "Run `nvidia-smi -l 1` to check the memory being used by what.\n",
    "You will need to restart the kernel if the program is crashing as jupyter stays allive and keeps the data in the memory."
   ]
  },
  {
   "cell_type": "code",
   "execution_count": 4,
   "metadata": {
    "pycharm": {
     "is_executing": false
    }
   },
   "outputs": [],
   "source": [
    "import pickle\n",
    "import keras\n",
    "import librosa\n",
    "import librosa.display\n",
    "import numpy as np\n",
    "from sklearn import metrics\n",
    "\n",
    "sound_model_file = \"sound_model.pkl\"\n",
    "label_encoder_file = \"labelencoder.pkl\"\n",
    "\n",
    "with tf.device('/gpu:0'):\n",
    "    model = None\n",
    "\n",
    "    with open(sound_model_file, 'rb') as file:\n",
    "        model = pickle.load(file)\n",
    "\n",
    "    with open(label_encoder_file, 'rb') as file:\n",
    "        le = pickle.load(file)\n",
    "\n",
    "%store -r x_train \n",
    "%store -r x_test \n",
    "%store -r y_train \n",
    "%store -r y_test \n",
    "#%store -r model \n",
    "#%store -r le\n",
    "%store -r X\n",
    "%store -r y"
   ]
  },
  {
   "cell_type": "code",
   "execution_count": 2,
   "metadata": {
    "pycharm": {
     "is_executing": false
    }
   },
   "outputs": [],
   "source": [
    "usl = \"../resources/UrbanSound8K/\""
   ]
  },
  {
   "cell_type": "code",
   "execution_count": 3,
   "metadata": {
    "pycharm": {
     "is_executing": false
    }
   },
   "outputs": [
    {
     "name": "stdout",
     "output_type": "stream",
     "text": [
      "6686/6686 [==============================] - 1s 179us/step\n",
      "Training Accuracy:  0.9925217032432556\n",
      "1672/1672 [==============================] - 0s 70us/step\n",
      "Testing Accuracy:  0.9312201142311096\n"
     ]
    }
   ],
   "source": [
    "\n",
    "num_rows = 40\n",
    "num_columns = 174\n",
    "num_channels = 1\n",
    "\n",
    "max_pad_len = 174\n",
    "\n",
    "x_train = x_train.reshape(x_train.shape[0], num_rows, num_columns, num_channels)\n",
    "x_test = x_test.reshape(x_test.shape[0], num_rows, num_columns, num_channels)\n",
    "\n",
    "# Evaluating the model on the training and testing set\n",
    "score = model.evaluate(x_train, y_train, verbose=1)\n",
    "print(\"Training Accuracy: \", score[1])\n",
    "\n",
    "score = model.evaluate(x_test, y_test, verbose=1)\n",
    "print(\"Testing Accuracy: \", score[1])"
   ]
  },
  {
   "cell_type": "code",
   "execution_count": 10,
   "metadata": {
    "pycharm": {
     "is_executing": false
    }
   },
   "outputs": [],
   "source": [
    "def prediction(file_name, print_data = False):\n",
    "    prediction_feature = extract_features(file_name) \n",
    "    prediction_feature = prediction_feature.reshape(1, num_rows, num_columns, num_channels)\n",
    "\n",
    "    predicted_vector = model.predict_classes(prediction_feature)\n",
    "    predicted_class = le.inverse_transform(predicted_vector)\n",
    "    predicted_proba_vector = model.predict_proba(prediction_feature) \n",
    "    predicted_proba = predicted_proba_vector[0]\n",
    "    if print_data:\n",
    "        print(\"The predicted class is:\", predicted_class[0], '\\n') \n",
    "        \n",
    "        for i in range(len(predicted_proba)): \n",
    "            category = le.inverse_transform(np.array([i]))\n",
    "            print(category[0], \"\\t\\t : \", format(predicted_proba[i], '.32f') )\n",
    "    return (predicted_class[0], format(predicted_proba[predicted_vector[0]] * 100, '.32f'))"
   ]
  },
  {
   "cell_type": "code",
   "execution_count": 11,
   "metadata": {
    "pycharm": {
     "is_executing": false
    }
   },
   "outputs": [],
   "source": [
    "def extract_features(file_name):\n",
    "   \n",
    "    try:\n",
    "        audio, sample_rate = librosa.load(file_name, res_type='kaiser_fast') \n",
    "        mfccs = librosa.feature.mfcc(y=audio, sr=sample_rate, n_mfcc=40)\n",
    "        pad_width = max_pad_len - mfccs.shape[1]\n",
    "        mfccs = np.pad(mfccs, pad_width=((0, 0), (0, pad_width)), mode='constant')\n",
    "        \n",
    "    except Exception as e:\n",
    "        print(\"Error encountered while parsing file: \", file_name, e)\n",
    "        return None \n",
    "     \n",
    "    return mfccs"
   ]
  },
  {
   "cell_type": "code",
   "execution_count": 12,
   "metadata": {
    "pycharm": {
     "is_executing": false
    }
   },
   "outputs": [
    {
     "name": "stdout",
     "output_type": "stream",
     "text": [
      "The predicted class is: air_conditioner \n",
      "\n",
      "air_conditioner \t\t :  0.99995946884155273437500000000000\n",
      "car_horn \t\t :  0.00000000000429289676723287882965\n",
      "children_playing \t\t :  0.00000133125183765514520928263664\n",
      "dog_bark \t\t :  0.00000000154084023318290519455331\n",
      "drilling \t\t :  0.00000701597036822931841015815735\n",
      "engine_idling \t\t :  0.00000061863573819209705106914043\n",
      "jackhammer \t\t :  0.00002545975439716130495071411133\n",
      "siren \t\t :  0.00000046361785166482150088995695\n",
      "street_music \t\t :  0.00000557679868506966158747673035\n"
     ]
    },
    {
     "data": {
      "text/plain": [
       "('air_conditioner', '99.99594688415527343750000000000000')"
      ]
     },
     "execution_count": 12,
     "metadata": {},
     "output_type": "execute_result"
    }
   ],
   "source": [
    "# Class: Air Conditioner\n",
    "\n",
    "filename = usl + 'audio/fold5/100852-0-0-0.wav' \n",
    "prediction(filename, True) "
   ]
  },
  {
   "cell_type": "code",
   "execution_count": 13,
   "metadata": {
    "pycharm": {
     "is_executing": false
    }
   },
   "outputs": [],
   "source": [
    "predictions = model.predict(x_test)\n",
    "y_pred = (predictions > 0.5)\n",
    "matrix = metrics.confusion_matrix(y_test.argmax(axis=1), y_pred.argmax(axis=1))"
   ]
  },
  {
   "cell_type": "markdown",
   "metadata": {
    "pycharm": {
     "name": "#%% md\n"
    }
   },
   "source": [
    "### Checking data from testing for more info"
   ]
  },
  {
   "cell_type": "code",
   "execution_count": 14,
   "metadata": {
    "pycharm": {
     "is_executing": false
    }
   },
   "outputs": [
    {
     "data": {
      "image/png": "[encoded data removed]",
      "text/plain": [
       "<Figure size 432x288 with 2 Axes>"
      ]
     },
     "metadata": {
      "needs_background": "light"
     },
     "output_type": "display_data"
    }
   ],
   "source": [
    "import matplotlib.pyplot as plt\n",
    "import seaborn as sns\n",
    "\n",
    "label_names = le.classes_\n",
    "\n",
    "plt.figure()\n",
    "ax= plt.subplot(111)\n",
    "sns.heatmap(matrix, annot=True, ax = ax, fmt='g')\n",
    "\n",
    "ax.set_xlabel('Predicted labels')\n",
    "ax.set_ylabel('True labels')\n",
    "ax.set_title('Confusion Matrix (Urban Sounds)')\n",
    "ax.xaxis.set_ticklabels(label_names, rotation='vertical');\n",
    "ax.yaxis.set_ticklabels(label_names, rotation='horizontal');\n",
    "\n",
    "plt.show()"
   ]
  },
  {
   "cell_type": "markdown",
   "metadata": {
    "pycharm": {
     "is_executing": false,
     "name": "#%% md\n"
    }
   },
   "source": [
    "### Test with sounds from odas"
   ]
  },
  {
   "cell_type": "code",
   "execution_count": 21,
   "metadata": {
    "pycharm": {
     "is_executing": false,
     "name": "#%%\n"
    }
   },
   "outputs": [
    {
     "name": "stdout",
     "output_type": "stream",
     "text": [
      "Error encountered while parsing file:  /home/sekwah/Music/ODAS_1_2020-4-23_19-20-44-24_sp.wav index can't contain negative values\n",
      "Error reading file: /home/sekwah/Music/ODAS_1_2020-4-23_19-20-44-24_sp.wav\n",
      "dog_bark 92.21527576446533203125000000000000% ODAS_1_2020-4-23_19-20-44-24_11_pf.wav\n",
      "dog_bark 81.00326061248779296875000000000000% ODAS_1_2020-4-23_19-20-44-24_12_pf.wav\n",
      "dog_bark 99.18701648712158203125000000000000% ODAS_1_2020-4-23_19-20-44-24_13_pf.wav\n",
      "car_horn 99.94770884513854980468750000000000% ODAS_1_2020-4-23_19-20-44-24_3_pf.wav\n",
      "car_horn 77.64003872871398925781250000000000% ODAS_1_2020-4-23_19-20-44-24_8_pf.wav\n",
      "car_horn 96.04970812797546386718750000000000% ODAS_1_2020-4-23_19-20-44-24_2_pf.wav\n",
      "dog_bark 93.51277947425842285156250000000000% ODAS_1_2020-4-23_19-20-44-24_10_pf.wav\n",
      "car_horn 65.30088782310485839843750000000000% ODAS_1_2020-4-23_19-20-44-24_7_pf.wav\n",
      "car_horn 76.84741020202636718750000000000000% ODAS_1_2020-4-23_19-20-44-24_pf.wav\n",
      "car_horn 85.46611070632934570312500000000000% ODAS_1_2020-4-23_19-20-44-24_4_pf.wav\n",
      "car_horn 88.06675076484680175781250000000000% ODAS_1_2020-4-23_19-20-44-24_1_pf.wav\n",
      "drilling 37.17945814132690429687500000000000% ODAS_1_2020-4-23_19-20-44-24_6_pf.wav\n",
      "car_horn 61.31010055541992187500000000000000% ODAS_1_2020-4-23_19-20-44-24_5_pf.wav\n",
      "car_horn 98.82919192314147949218750000000000% ODAS_1_2020-4-23_19-20-44-24_9_pf.wav\n",
      "dog_bark 98.99715185165405273437500000000000% ODAS_1_2020-4-23_19-20-44-24_14_pf.wav\n"
     ]
    }
   ],
   "source": [
    "from os import listdir\n",
    "from os.path import isfile, join\n",
    "\n",
    "odas_clips = \"/home/sekwah/Music/\"\n",
    "\n",
    "sound_files = [f for f in listdir(odas_clips) if isfile(join(odas_clips, f))]\n",
    "\n",
    "#print(sound_files)\n",
    "\n",
    "for file in sound_files:\n",
    "    try:\n",
    "        predict = prediction(join(odas_clips, file), False)\n",
    "        print(\"{} {}% {}\".format(predict[0], predict[1], file))\n",
    "    except:\n",
    "        print(\"Error reading file: \" + join(odas_clips, file))"
   ]
  },
  {
   "cell_type": "markdown",
   "metadata": {},
   "source": [
    "### Export to allow better use of models"
   ]
  },
  {
   "cell_type": "code",
   "execution_count": 5,
   "metadata": {},
   "outputs": [],
   "source": [
    "model.save('sound_category_model.h5')"
   ]
  },
  {
   "cell_type": "code",
   "execution_count": null,
   "metadata": {},
   "outputs": [],
   "source": []
  }
 ],
 "metadata": {
  "kernelspec": {
   "display_name": "Python 3.7",
   "language": "python",
   "name": "python37"
  },
  "language_info": {
   "codemirror_mode": {
    "name": "ipython",
    "version": 3
   },
   "file_extension": ".py",
   "mimetype": "text/x-python",
   "name": "python",
   "nbconvert_exporter": "python",
   "pygments_lexer": "ipython3",
   "version": "3.7.7"
  },
  "pycharm": {
   "stem_cell": {
    "cell_type": "raw",
    "metadata": {
     "collapsed": false
    },
    "source": []
   }
  }
 },
 "nbformat": 4,
 "nbformat_minor": 4
}
