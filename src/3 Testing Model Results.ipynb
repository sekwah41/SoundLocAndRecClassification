{
 "cells": [
  {
   "cell_type": "markdown",
   "metadata": {},
   "source": [
    "### Import trained model\n",
    "Run `nvidia-smi -l 1` to check the memory being used by what.\n",
    "You will need to restart the kernel if the program is crashing as jupyter stays allive and keeps the data in the memory."
   ]
  },
  {
   "cell_type": "code",
   "execution_count": 1,
   "metadata": {
    "pycharm": {
     "is_executing": false
    }
   },
   "outputs": [
    {
     "name": "stderr",
     "output_type": "stream",
     "text": [
      "Using TensorFlow backend.\n"
     ]
    }
   ],
   "source": [
    "import pickle\n",
    "import keras\n",
    "import librosa\n",
    "import librosa.display\n",
    "import numpy as np\n",
    "from sklearn import metrics\n",
    "import tensorflow as tf\n",
    "from keras.models import load_model\n",
    "\n",
    "#sound_model_file = \"sound_model.pkl\"\n",
    "label_encoder_file = \"labelencoder.pkl\"\n",
    "\n",
    "\n",
    "model = None\n",
    "\n",
    "model = load_model('sound_category_model.h5')\n",
    "\n",
    "#with open(sound_model_file, 'rb') as file:\n",
    "#    model = pickle.load(file)\n",
    "\n",
    "with open(label_encoder_file, 'rb') as file:\n",
    "    le = pickle.load(file)\n",
    "\n",
    "%store -r x_train \n",
    "%store -r x_test \n",
    "%store -r y_train \n",
    "%store -r y_test \n",
    "#%store -r model \n",
    "#%store -r le\n",
    "%store -r X\n",
    "%store -r y"
   ]
  },
  {
   "cell_type": "code",
   "execution_count": 2,
   "metadata": {
    "pycharm": {
     "is_executing": false
    }
   },
   "outputs": [],
   "source": [
    "usl = \"../resources/UrbanSound8K/\""
   ]
  },
  {
   "cell_type": "code",
   "execution_count": 3,
   "metadata": {
    "pycharm": {
     "is_executing": false
    }
   },
   "outputs": [
    {
     "name": "stdout",
     "output_type": "stream",
     "text": [
      "7980/7980 [==============================] - 1s 148us/step\n",
      "Training Accuracy:  0.984085202217102\n",
      "1996/1996 [==============================] - 0s 58us/step\n",
      "Testing Accuracy:  0.9579158425331116\n"
     ]
    }
   ],
   "source": [
    "\n",
    "num_rows = 40\n",
    "num_columns = 174\n",
    "num_channels = 1\n",
    "\n",
    "max_pad_len = 174\n",
    "\n",
    "x_train = x_train.reshape(x_train.shape[0], num_rows, num_columns, num_channels)\n",
    "x_test = x_test.reshape(x_test.shape[0], num_rows, num_columns, num_channels)\n",
    "\n",
    "# Evaluating the model on the training and testing set\n",
    "score = model.evaluate(x_train, y_train, verbose=1)\n",
    "print(\"Training Accuracy: \", score[1])\n",
    "\n",
    "score = model.evaluate(x_test, y_test, verbose=1)\n",
    "print(\"Testing Accuracy: \", score[1])"
   ]
  },
  {
   "cell_type": "code",
   "execution_count": 4,
   "metadata": {
    "pycharm": {
     "is_executing": false
    }
   },
   "outputs": [],
   "source": [
    "def prediction(file_name, print_data = False):\n",
    "    prediction_feature = extract_features(file_name) \n",
    "    prediction_feature = prediction_feature.reshape(1, num_rows, num_columns, num_channels)\n",
    "\n",
    "    predicted_vector = model.predict_classes(prediction_feature)\n",
    "    predicted_class = le.inverse_transform(predicted_vector)\n",
    "    predicted_proba_vector = model.predict_proba(prediction_feature) \n",
    "    predicted_proba = predicted_proba_vector[0]\n",
    "    if print_data:\n",
    "        print(\"The predicted class is:\", predicted_class[0], '\\n') \n",
    "        \n",
    "        for i in range(len(predicted_proba)): \n",
    "            category = le.inverse_transform(np.array([i]))\n",
    "            print(category[0], \"\\t\\t : \", format(predicted_proba[i], '.32f') )\n",
    "    return (predicted_class[0], format(predicted_proba[predicted_vector[0]] * 100, '.32f'))"
   ]
  },
  {
   "cell_type": "code",
   "execution_count": 5,
   "metadata": {
    "pycharm": {
     "is_executing": false
    }
   },
   "outputs": [],
   "source": [
    "def extract_features(file_name):\n",
    "   \n",
    "    try:\n",
    "        audio, sample_rate = librosa.load(file_name, res_type='kaiser_fast') \n",
    "        mfccs = librosa.feature.mfcc(y=audio, sr=sample_rate, n_mfcc=40)\n",
    "        pad_width = max_pad_len - mfccs.shape[1]\n",
    "        mfccs = np.pad(mfccs, pad_width=((0, 0), (0, pad_width)), mode='constant')\n",
    "        \n",
    "    except Exception as e:\n",
    "        print(\"Error encountered while parsing file: \", file_name, e)\n",
    "        return None \n",
    "     \n",
    "    return mfccs"
   ]
  },
  {
   "cell_type": "code",
   "execution_count": 6,
   "metadata": {
    "pycharm": {
     "is_executing": false
    }
   },
   "outputs": [
    {
     "name": "stdout",
     "output_type": "stream",
     "text": [
      "The predicted class is: air_conditioner \n",
      "\n",
      "air_conditioner \t\t :  0.99914872646331787109375000000000\n",
      "car_horn \t\t :  0.00000000001802147320262292851112\n",
      "children_playing \t\t :  0.00054140144493430852890014648438\n",
      "dog_bark \t\t :  0.00000074677274142231908626854420\n",
      "door_bell \t\t :  0.00000000000000000000000000004295\n",
      "drilling \t\t :  0.00015402764256577938795089721680\n",
      "engine_idling \t\t :  0.00000113216412955807754769921303\n",
      "fire_alarm \t\t :  0.00000000000000000000007302906336\n",
      "jackhammer \t\t :  0.00005318045077729038894176483154\n",
      "music \t\t :  0.00000000000000024660104297799914\n",
      "person_talking \t\t :  0.00000000000000000000000019784195\n",
      "shuffling \t\t :  0.00000000000000000000000196146734\n",
      "siren \t\t :  0.00000000602197980370533514360432\n",
      "street_music \t\t :  0.00010069543350255116820335388184\n"
     ]
    },
    {
     "data": {
      "text/plain": [
       "('air_conditioner', '99.91487264633178710937500000000000')"
      ]
     },
     "execution_count": 6,
     "metadata": {},
     "output_type": "execute_result"
    }
   ],
   "source": [
    "# Class: Air Conditioner\n",
    "\n",
    "filename = usl + 'audio/fold5/100852-0-0-0.wav' \n",
    "prediction(filename, True) "
   ]
  },
  {
   "cell_type": "code",
   "execution_count": 7,
   "metadata": {
    "pycharm": {
     "is_executing": false
    }
   },
   "outputs": [],
   "source": [
    "predictions = model.predict(x_test)\n",
    "y_pred = (predictions > 0.5)\n",
    "matrix = metrics.confusion_matrix(y_test.argmax(axis=1), y_pred.argmax(axis=1))"
   ]
  },
  {
   "cell_type": "markdown",
   "metadata": {
    "pycharm": {
     "name": "#%% md\n"
    }
   },
   "source": [
    "### Checking data from testing for more info"
   ]
  },
  {
   "cell_type": "code",
   "execution_count": 8,
   "metadata": {
    "pycharm": {
     "is_executing": false
    },
    "scrolled": true
   },
   "outputs": [
    {
     "data": {
      "image/png": "[encoded data removed]",
      "text/plain": [
       "<Figure size 432x288 with 2 Axes>"
      ]
     },
     "metadata": {
      "needs_background": "light"
     },
     "output_type": "display_data"
    }
   ],
   "source": [
    "import matplotlib.pyplot as plt\n",
    "import seaborn as sns\n",
    "\n",
    "label_names = le.classes_\n",
    "\n",
    "plt.figure()\n",
    "ax= plt.subplot(111)\n",
    "sns.heatmap(matrix, annot=True, ax = ax, fmt='g')\n",
    "\n",
    "ax.set_xlabel('Predicted labels')\n",
    "ax.set_ylabel('True labels')\n",
    "ax.set_title('Confusion Matrix (General Sounds)')\n",
    "ax.xaxis.set_ticklabels(label_names, rotation='vertical');\n",
    "ax.yaxis.set_ticklabels(label_names, rotation='horizontal');\n",
    "\n",
    "plt.savefig('confusion_matrix.png', bbox_inches='tight')\n",
    "\n",
    "plt.show()"
   ]
  },
  {
   "cell_type": "code",
   "execution_count": 9,
   "metadata": {},
   "outputs": [
    {
     "data": {
      "image/svg+xml": [
       "<svg height=\"1423pt\" viewBox=\"0.00 0.00 410.00 1067.00\" width=\"547pt\" xmlns=\"http://www.w3.org/2000/svg\" xmlns:xlink=\"http://www.w3.org/1999/xlink\">\n",
       "<g class=\"graph\" id=\"graph0\" transform=\"scale(1.33 1.33) rotate(0) translate(4 1063)\">\n",
       "<title>G</title>\n",
       "<polygon fill=\"white\" points=\"-4,4 -4,-1063 406,-1063 406,4 -4,4\" stroke=\"transparent\"/>\n",
       "<!-- 139652749835664 -->\n",
       "<g class=\"node\" id=\"node1\">\n",
       "<title>139652749835664</title>\n",
       "<polygon fill=\"none\" points=\"93.5,-1022.5 93.5,-1058.5 308.5,-1058.5 308.5,-1022.5 93.5,-1022.5\" stroke=\"black\"/>\n",
       "<text font-family=\"Times,serif\" font-size=\"14.00\" text-anchor=\"middle\" x=\"201\" y=\"-1036.8\">conv2d_1_input: InputLayer</text>\n",
       "</g>\n",
       "<!-- 139652749835920 -->\n",
       "<g class=\"node\" id=\"node2\">\n",
       "<title>139652749835920</title>\n",
       "<polygon fill=\"none\" points=\"126.5,-949.5 126.5,-985.5 275.5,-985.5 275.5,-949.5 126.5,-949.5\" stroke=\"black\"/>\n",
       "<text font-family=\"Times,serif\" font-size=\"14.00\" text-anchor=\"middle\" x=\"201\" y=\"-963.8\">conv2d_1: Conv2D</text>\n",
       "</g>\n",
       "<!-- 139652749835664&#45;&gt;139652749835920 -->\n",
       "<g class=\"edge\" id=\"edge1\">\n",
       "<title>139652749835664-&gt;139652749835920</title>\n",
       "<path d=\"M201,-1022.31C201,-1014.29 201,-1004.55 201,-995.57\" fill=\"none\" stroke=\"black\"/>\n",
       "<polygon fill=\"black\" points=\"204.5,-995.53 201,-985.53 197.5,-995.53 204.5,-995.53\" stroke=\"black\"/>\n",
       "</g>\n",
       "<!-- 139652749468880 -->\n",
       "<g class=\"node\" id=\"node3\">\n",
       "<title>139652749468880</title>\n",
       "<polygon fill=\"none\" points=\"75,-876.5 75,-912.5 327,-912.5 327,-876.5 75,-876.5\" stroke=\"black\"/>\n",
       "<text font-family=\"Times,serif\" font-size=\"14.00\" text-anchor=\"middle\" x=\"201\" y=\"-890.8\">max_pooling2d_1: MaxPooling2D</text>\n",
       "</g>\n",
       "<!-- 139652749835920&#45;&gt;139652749468880 -->\n",
       "<g class=\"edge\" id=\"edge2\">\n",
       "<title>139652749835920-&gt;139652749468880</title>\n",
       "<path d=\"M201,-949.31C201,-941.29 201,-931.55 201,-922.57\" fill=\"none\" stroke=\"black\"/>\n",
       "<polygon fill=\"black\" points=\"204.5,-922.53 201,-912.53 197.5,-922.53 204.5,-922.53\" stroke=\"black\"/>\n",
       "</g>\n",
       "<!-- 139652884144912 -->\n",
       "<g class=\"node\" id=\"node4\">\n",
       "<title>139652884144912</title>\n",
       "<polygon fill=\"none\" points=\"123,-803.5 123,-839.5 279,-839.5 279,-803.5 123,-803.5\" stroke=\"black\"/>\n",
       "<text font-family=\"Times,serif\" font-size=\"14.00\" text-anchor=\"middle\" x=\"201\" y=\"-817.8\">dropout_1: Dropout</text>\n",
       "</g>\n",
       "<!-- 139652749468880&#45;&gt;139652884144912 -->\n",
       "<g class=\"edge\" id=\"edge3\">\n",
       "<title>139652749468880-&gt;139652884144912</title>\n",
       "<path d=\"M201,-876.31C201,-868.29 201,-858.55 201,-849.57\" fill=\"none\" stroke=\"black\"/>\n",
       "<polygon fill=\"black\" points=\"204.5,-849.53 201,-839.53 197.5,-849.53 204.5,-849.53\" stroke=\"black\"/>\n",
       "</g>\n",
       "<!-- 139652749631888 -->\n",
       "<g class=\"node\" id=\"node5\">\n",
       "<title>139652749631888</title>\n",
       "<polygon fill=\"none\" points=\"126.5,-730.5 126.5,-766.5 275.5,-766.5 275.5,-730.5 126.5,-730.5\" stroke=\"black\"/>\n",
       "<text font-family=\"Times,serif\" font-size=\"14.00\" text-anchor=\"middle\" x=\"201\" y=\"-744.8\">conv2d_2: Conv2D</text>\n",
       "</g>\n",
       "<!-- 139652884144912&#45;&gt;139652749631888 -->\n",
       "<g class=\"edge\" id=\"edge4\">\n",
       "<title>139652884144912-&gt;139652749631888</title>\n",
       "<path d=\"M201,-803.31C201,-795.29 201,-785.55 201,-776.57\" fill=\"none\" stroke=\"black\"/>\n",
       "<polygon fill=\"black\" points=\"204.5,-776.53 201,-766.53 197.5,-776.53 204.5,-776.53\" stroke=\"black\"/>\n",
       "</g>\n",
       "<!-- 139652749376144 -->\n",
       "<g class=\"node\" id=\"node6\">\n",
       "<title>139652749376144</title>\n",
       "<polygon fill=\"none\" points=\"75,-657.5 75,-693.5 327,-693.5 327,-657.5 75,-657.5\" stroke=\"black\"/>\n",
       "<text font-family=\"Times,serif\" font-size=\"14.00\" text-anchor=\"middle\" x=\"201\" y=\"-671.8\">max_pooling2d_2: MaxPooling2D</text>\n",
       "</g>\n",
       "<!-- 139652749631888&#45;&gt;139652749376144 -->\n",
       "<g class=\"edge\" id=\"edge5\">\n",
       "<title>139652749631888-&gt;139652749376144</title>\n",
       "<path d=\"M201,-730.31C201,-722.29 201,-712.55 201,-703.57\" fill=\"none\" stroke=\"black\"/>\n",
       "<polygon fill=\"black\" points=\"204.5,-703.53 201,-693.53 197.5,-703.53 204.5,-703.53\" stroke=\"black\"/>\n",
       "</g>\n",
       "<!-- 139650594508496 -->\n",
       "<g class=\"node\" id=\"node7\">\n",
       "<title>139650594508496</title>\n",
       "<polygon fill=\"none\" points=\"123,-584.5 123,-620.5 279,-620.5 279,-584.5 123,-584.5\" stroke=\"black\"/>\n",
       "<text font-family=\"Times,serif\" font-size=\"14.00\" text-anchor=\"middle\" x=\"201\" y=\"-598.8\">dropout_2: Dropout</text>\n",
       "</g>\n",
       "<!-- 139652749376144&#45;&gt;139650594508496 -->\n",
       "<g class=\"edge\" id=\"edge6\">\n",
       "<title>139652749376144-&gt;139650594508496</title>\n",
       "<path d=\"M201,-657.31C201,-649.29 201,-639.55 201,-630.57\" fill=\"none\" stroke=\"black\"/>\n",
       "<polygon fill=\"black\" points=\"204.5,-630.53 201,-620.53 197.5,-630.53 204.5,-630.53\" stroke=\"black\"/>\n",
       "</g>\n",
       "<!-- 139650594506000 -->\n",
       "<g class=\"node\" id=\"node8\">\n",
       "<title>139650594506000</title>\n",
       "<polygon fill=\"none\" points=\"126.5,-511.5 126.5,-547.5 275.5,-547.5 275.5,-511.5 126.5,-511.5\" stroke=\"black\"/>\n",
       "<text font-family=\"Times,serif\" font-size=\"14.00\" text-anchor=\"middle\" x=\"201\" y=\"-525.8\">conv2d_3: Conv2D</text>\n",
       "</g>\n",
       "<!-- 139650594508496&#45;&gt;139650594506000 -->\n",
       "<g class=\"edge\" id=\"edge7\">\n",
       "<title>139650594508496-&gt;139650594506000</title>\n",
       "<path d=\"M201,-584.31C201,-576.29 201,-566.55 201,-557.57\" fill=\"none\" stroke=\"black\"/>\n",
       "<polygon fill=\"black\" points=\"204.5,-557.53 201,-547.53 197.5,-557.53 204.5,-557.53\" stroke=\"black\"/>\n",
       "</g>\n",
       "<!-- 139650594586064 -->\n",
       "<g class=\"node\" id=\"node9\">\n",
       "<title>139650594586064</title>\n",
       "<polygon fill=\"none\" points=\"75,-438.5 75,-474.5 327,-474.5 327,-438.5 75,-438.5\" stroke=\"black\"/>\n",
       "<text font-family=\"Times,serif\" font-size=\"14.00\" text-anchor=\"middle\" x=\"201\" y=\"-452.8\">max_pooling2d_3: MaxPooling2D</text>\n",
       "</g>\n",
       "<!-- 139650594506000&#45;&gt;139650594586064 -->\n",
       "<g class=\"edge\" id=\"edge8\">\n",
       "<title>139650594506000-&gt;139650594586064</title>\n",
       "<path d=\"M201,-511.31C201,-503.29 201,-493.55 201,-484.57\" fill=\"none\" stroke=\"black\"/>\n",
       "<polygon fill=\"black\" points=\"204.5,-484.53 201,-474.53 197.5,-484.53 204.5,-484.53\" stroke=\"black\"/>\n",
       "</g>\n",
       "<!-- 139650594606736 -->\n",
       "<g class=\"node\" id=\"node10\">\n",
       "<title>139650594606736</title>\n",
       "<polygon fill=\"none\" points=\"123,-365.5 123,-401.5 279,-401.5 279,-365.5 123,-365.5\" stroke=\"black\"/>\n",
       "<text font-family=\"Times,serif\" font-size=\"14.00\" text-anchor=\"middle\" x=\"201\" y=\"-379.8\">dropout_3: Dropout</text>\n",
       "</g>\n",
       "<!-- 139650594586064&#45;&gt;139650594606736 -->\n",
       "<g class=\"edge\" id=\"edge9\">\n",
       "<title>139650594586064-&gt;139650594606736</title>\n",
       "<path d=\"M201,-438.31C201,-430.29 201,-420.55 201,-411.57\" fill=\"none\" stroke=\"black\"/>\n",
       "<polygon fill=\"black\" points=\"204.5,-411.53 201,-401.53 197.5,-411.53 204.5,-411.53\" stroke=\"black\"/>\n",
       "</g>\n",
       "<!-- 139650594607056 -->\n",
       "<g class=\"node\" id=\"node11\">\n",
       "<title>139650594607056</title>\n",
       "<polygon fill=\"none\" points=\"126.5,-292.5 126.5,-328.5 275.5,-328.5 275.5,-292.5 126.5,-292.5\" stroke=\"black\"/>\n",
       "<text font-family=\"Times,serif\" font-size=\"14.00\" text-anchor=\"middle\" x=\"201\" y=\"-306.8\">conv2d_4: Conv2D</text>\n",
       "</g>\n",
       "<!-- 139650594606736&#45;&gt;139650594607056 -->\n",
       "<g class=\"edge\" id=\"edge10\">\n",
       "<title>139650594606736-&gt;139650594607056</title>\n",
       "<path d=\"M201,-365.31C201,-357.29 201,-347.55 201,-338.57\" fill=\"none\" stroke=\"black\"/>\n",
       "<polygon fill=\"black\" points=\"204.5,-338.53 201,-328.53 197.5,-338.53 204.5,-338.53\" stroke=\"black\"/>\n",
       "</g>\n",
       "<!-- 139650594667152 -->\n",
       "<g class=\"node\" id=\"node12\">\n",
       "<title>139650594667152</title>\n",
       "<polygon fill=\"none\" points=\"75,-219.5 75,-255.5 327,-255.5 327,-219.5 75,-219.5\" stroke=\"black\"/>\n",
       "<text font-family=\"Times,serif\" font-size=\"14.00\" text-anchor=\"middle\" x=\"201\" y=\"-233.8\">max_pooling2d_4: MaxPooling2D</text>\n",
       "</g>\n",
       "<!-- 139650594607056&#45;&gt;139650594667152 -->\n",
       "<g class=\"edge\" id=\"edge11\">\n",
       "<title>139650594607056-&gt;139650594667152</title>\n",
       "<path d=\"M201,-292.31C201,-284.29 201,-274.55 201,-265.57\" fill=\"none\" stroke=\"black\"/>\n",
       "<polygon fill=\"black\" points=\"204.5,-265.53 201,-255.53 197.5,-265.53 204.5,-265.53\" stroke=\"black\"/>\n",
       "</g>\n",
       "<!-- 139650594668304 -->\n",
       "<g class=\"node\" id=\"node13\">\n",
       "<title>139650594668304</title>\n",
       "<polygon fill=\"none\" points=\"123,-146.5 123,-182.5 279,-182.5 279,-146.5 123,-146.5\" stroke=\"black\"/>\n",
       "<text font-family=\"Times,serif\" font-size=\"14.00\" text-anchor=\"middle\" x=\"201\" y=\"-160.8\">dropout_4: Dropout</text>\n",
       "</g>\n",
       "<!-- 139650594667152&#45;&gt;139650594668304 -->\n",
       "<g class=\"edge\" id=\"edge12\">\n",
       "<title>139650594667152-&gt;139650594668304</title>\n",
       "<path d=\"M201,-219.31C201,-211.29 201,-201.55 201,-192.57\" fill=\"none\" stroke=\"black\"/>\n",
       "<polygon fill=\"black\" points=\"204.5,-192.53 201,-182.53 197.5,-192.53 204.5,-192.53\" stroke=\"black\"/>\n",
       "</g>\n",
       "<!-- 139650594604368 -->\n",
       "<g class=\"node\" id=\"node14\">\n",
       "<title>139650594604368</title>\n",
       "<polygon fill=\"none\" points=\"0,-73.5 0,-109.5 402,-109.5 402,-73.5 0,-73.5\" stroke=\"black\"/>\n",
       "<text font-family=\"Times,serif\" font-size=\"14.00\" text-anchor=\"middle\" x=\"201\" y=\"-87.8\">global_average_pooling2d_1: GlobalAveragePooling2D</text>\n",
       "</g>\n",
       "<!-- 139650594668304&#45;&gt;139650594604368 -->\n",
       "<g class=\"edge\" id=\"edge13\">\n",
       "<title>139650594668304-&gt;139650594604368</title>\n",
       "<path d=\"M201,-146.31C201,-138.29 201,-128.55 201,-119.57\" fill=\"none\" stroke=\"black\"/>\n",
       "<polygon fill=\"black\" points=\"204.5,-119.53 201,-109.53 197.5,-119.53 204.5,-119.53\" stroke=\"black\"/>\n",
       "</g>\n",
       "<!-- 139650594235984 -->\n",
       "<g class=\"node\" id=\"node15\">\n",
       "<title>139650594235984</title>\n",
       "<polygon fill=\"none\" points=\"137,-0.5 137,-36.5 265,-36.5 265,-0.5 137,-0.5\" stroke=\"black\"/>\n",
       "<text font-family=\"Times,serif\" font-size=\"14.00\" text-anchor=\"middle\" x=\"201\" y=\"-14.8\">dense_1: Dense</text>\n",
       "</g>\n",
       "<!-- 139650594604368&#45;&gt;139650594235984 -->\n",
       "<g class=\"edge\" id=\"edge14\">\n",
       "<title>139650594604368-&gt;139650594235984</title>\n",
       "<path d=\"M201,-73.31C201,-65.29 201,-55.55 201,-46.57\" fill=\"none\" stroke=\"black\"/>\n",
       "<polygon fill=\"black\" points=\"204.5,-46.53 201,-36.53 197.5,-46.53 204.5,-46.53\" stroke=\"black\"/>\n",
       "</g>\n",
       "</g>\n",
       "</svg>"
      ],
      "text/plain": [
       "<IPython.core.display.SVG object>"
      ]
     },
     "execution_count": 9,
     "metadata": {},
     "output_type": "execute_result"
    }
   ],
   "source": [
    "from IPython.display import SVG\n",
    "from keras.utils import model_to_dot\n",
    "\n",
    "# The output is a bit dodgy so you need to change the viewport value to\n",
    "# width=\"550\" height=\"1467\" viewBox=\"0.00 0.00 550.00 1467.00\"\n",
    "with open(\"model_graph.svg\", 'wb') as file:\n",
    "    file.write(model_to_dot(model).create(prog='dot', format='svg'))\n",
    "    \n",
    "SVG(\"model_graph.svg\")"
   ]
  },
  {
   "cell_type": "markdown",
   "metadata": {
    "pycharm": {
     "is_executing": false,
     "name": "#%% md\n"
    }
   },
   "source": [
    "### Test with sounds from odas"
   ]
  },
  {
   "cell_type": "code",
   "execution_count": 10,
   "metadata": {
    "pycharm": {
     "is_executing": false,
     "name": "#%%\n"
    }
   },
   "outputs": [
    {
     "name": "stdout",
     "output_type": "stream",
     "text": [
      "music 99.95131492614746093750000000000000% ODAS_462_2020-5-12_0-31-26-976_45_pf.wav\n",
      "car_horn 63.21774721145629882812500000000000% ODAS_462_2020-5-12_0-31-26-976_50_pf.wav\n",
      "music 99.98550415039062500000000000000000% ODAS_462_2020-5-12_0-31-26-976_26_pf.wav\n",
      "music 98.06599020957946777343750000000000% ODAS_462_2020-5-12_0-31-26-976_4_pf.wav\n",
      "music 88.16573023796081542968750000000000% ODAS_462_2020-5-12_0-31-26-976_8_pf.wav\n",
      "music 66.01036787033081054687500000000000% ODAS_462_2020-5-12_0-31-26-976_16_pf.wav\n",
      "music 99.39564466476440429687500000000000% ODAS_462_2020-5-12_0-31-26-976_37_pf.wav\n",
      "music 99.34141635894775390625000000000000% ODAS_462_2020-5-12_0-31-26-976_18_pf.wav\n",
      "music 99.91776347160339355468750000000000% ODAS_462_2020-5-12_0-31-26-976_33_pf.wav\n",
      "music 99.14278388023376464843750000000000% ODAS_462_2020-5-12_0-31-26-976_48_pf.wav\n",
      "music 99.56747889518737792968750000000000% ODAS_462_2020-5-12_0-31-26-976_3_pf.wav\n",
      "music 98.00614714622497558593750000000000% ODAS_462_2020-5-12_0-31-26-976_47_pf.wav\n",
      "music 98.70469570159912109375000000000000% ODAS_462_2020-5-12_0-31-26-976_41_pf.wav\n",
      "music 97.14358448982238769531250000000000% ODAS_462_2020-5-12_0-31-26-976_13_pf.wav\n",
      "person_talking 62.93421387672424316406250000000000% ODAS_462_2020-5-12_0-31-26-976_15_pf.wav\n",
      "music 67.33552813529968261718750000000000% ODAS_462_2020-5-12_0-31-26-976_22_pf.wav\n",
      "music 98.76201152801513671875000000000000% ODAS_462_2020-5-12_0-31-26-976_32_pf.wav\n",
      "music 94.34728622436523437500000000000000% ODAS_462_2020-5-12_0-31-26-976_40_pf.wav\n",
      "music 99.97519850730895996093750000000000% ODAS_462_2020-5-12_0-31-26-976_10_pf.wav\n",
      "music 99.84318614006042480468750000000000% ODAS_462_2020-5-12_0-31-26-976_31_pf.wav\n",
      "music 99.99682903289794921875000000000000% ODAS_462_2020-5-12_0-31-26-976_20_pf.wav\n",
      "music 93.08513402938842773437500000000000% ODAS_462_2020-5-12_0-31-26-976_28_pf.wav\n",
      "music 66.43624901771545410156250000000000% ODAS_462_2020-5-12_0-31-26-976_5_pf.wav\n",
      "music 99.98986721038818359375000000000000% ODAS_462_2020-5-12_0-31-26-976_35_pf.wav\n",
      "music 82.46023654937744140625000000000000% ODAS_462_2020-5-12_0-31-26-976_9_pf.wav\n",
      "car_horn 54.85311150550842285156250000000000% ODAS_462_2020-5-12_0-31-26-976_52_pf.wav\n",
      "music 94.17198896408081054687500000000000% ODAS_462_2020-5-12_0-31-26-976_54_pf.wav\n",
      "music 91.44833683967590332031250000000000% ODAS_462_2020-5-12_0-31-26-976_56_pf.wav\n",
      "music 98.82764220237731933593750000000000% ODAS_462_2020-5-12_0-31-26-976_23_pf.wav\n",
      "music 99.12990927696228027343750000000000% ODAS_462_2020-5-12_0-31-26-976_44_pf.wav\n",
      "music 99.95988011360168457031250000000000% ODAS_462_2020-5-12_0-31-26-976_29_pf.wav\n",
      "music 99.99945163726806640625000000000000% ODAS_462_2020-5-12_0-31-26-976_27_pf.wav\n",
      "music 99.62540864944458007812500000000000% ODAS_462_2020-5-12_0-31-26-976_12_pf.wav\n",
      "music 56.09084963798522949218750000000000% ODAS_462_2020-5-12_0-31-26-976_51_pf.wav\n",
      "music 98.52890372276306152343750000000000% ODAS_462_2020-5-12_0-31-26-976_46_pf.wav\n",
      "music 99.99041557312011718750000000000000% ODAS_462_2020-5-12_0-31-26-976_34_pf.wav\n",
      "music 99.89914298057556152343750000000000% ODAS_462_2020-5-12_0-31-26-976_25_pf.wav\n",
      "music 99.93059635162353515625000000000000% ODAS_462_2020-5-12_0-31-26-976_30_pf.wav\n",
      "music 99.62592124938964843750000000000000% ODAS_462_2020-5-12_0-31-26-976_21_pf.wav\n",
      "music 98.72978925704956054687500000000000% ODAS_462_2020-5-12_0-31-26-976_43_pf.wav\n",
      "music 74.11434650421142578125000000000000% ODAS_462_2020-5-12_0-31-26-976_36_pf.wav\n",
      "music 99.83506202697753906250000000000000% ODAS_462_2020-5-12_0-31-26-976_38_pf.wav\n",
      "music 99.07648563385009765625000000000000% ODAS_462_2020-5-12_0-31-26-976_14_pf.wav\n",
      "music 99.70302581787109375000000000000000% ODAS_462_2020-5-12_0-31-26-976_17_pf.wav\n",
      "music 99.56713914871215820312500000000000% ODAS_462_2020-5-12_0-31-26-976_24_pf.wav\n",
      "music 99.98540878295898437500000000000000% ODAS_462_2020-5-12_0-31-26-976_49_pf.wav\n",
      "music 99.89312291145324707031250000000000% ODAS_462_2020-5-12_0-31-26-976_42_pf.wav\n",
      "music 99.87163543701171875000000000000000% ODAS_462_2020-5-12_0-31-26-976_19_pf.wav\n",
      "music 99.75293278694152832031250000000000% ODAS_462_2020-5-12_0-31-26-976_11_pf.wav\n",
      "music 99.99690055847167968750000000000000% ODAS_462_2020-5-12_0-31-26-976_2_pf.wav\n",
      "music 98.81222844123840332031250000000000% ODAS_462_2020-5-12_0-31-26-976_39_pf.wav\n",
      "music 88.61044049263000488281250000000000% ODAS_462_2020-5-12_0-31-26-976_6_pf.wav\n",
      "music 99.02529716491699218750000000000000% ODAS_462_2020-5-12_0-31-26-976_53_pf.wav\n",
      "music 88.64879608154296875000000000000000% ODAS_462_2020-5-12_0-31-26-976_55_pf.wav\n",
      "music 96.16816639900207519531250000000000% ODAS_462_2020-5-12_0-31-26-976_1_pf.wav\n",
      "music 98.47245216369628906250000000000000% ODAS_462_2020-5-12_0-31-26-976_7_pf.wav\n"
     ]
    }
   ],
   "source": [
    "from os import listdir\n",
    "from os.path import isfile, join\n",
    "\n",
    "odas_clips = \"/home/sekwah/Music/\"\n",
    "\n",
    "sound_files = [f for f in listdir(odas_clips) if isfile(join(odas_clips, f))]\n",
    "\n",
    "#print(sound_files)\n",
    "\n",
    "for file in sound_files:\n",
    "    try:\n",
    "        predict = prediction(join(odas_clips, file), False)\n",
    "        print(\"{} {}% {}\".format(predict[0], predict[1], file))\n",
    "    except:\n",
    "        print(\"Error reading file: \" + join(odas_clips, file))"
   ]
  },
  {
   "cell_type": "code",
   "execution_count": null,
   "metadata": {},
   "outputs": [],
   "source": []
  }
 ],
 "metadata": {
  "kernelspec": {
   "display_name": "Python 3.7",
   "language": "python",
   "name": "python37"
  },
  "language_info": {
   "codemirror_mode": {
    "name": "ipython",
    "version": 3
   },
   "file_extension": ".py",
   "mimetype": "text/x-python",
   "name": "python",
   "nbconvert_exporter": "python",
   "pygments_lexer": "ipython3",
   "version": "3.7.7"
  }
 },
 "nbformat": 4,
 "nbformat_minor": 4
}
