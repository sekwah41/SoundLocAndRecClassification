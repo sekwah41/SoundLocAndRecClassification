{
 "cells": [
  {
   "cell_type": "code",
   "execution_count": 11,
   "metadata": {
    "pycharm": {
     "name": "#%% Modules for analysing sound\n",
     "is_executing": false
    }
   },
   "outputs": [],
   "source": [
    "import pandas\n",
    "from os.path import join as join_path\n",
    "from wavefile import WaveReader\n",
    "import matplotlib.pyplot as plt"
   ]
  },
  {
   "cell_type": "code",
   "execution_count": 12,
   "outputs": [],
   "source": [
    "usl = \"../resources/UrbanSound8K/\"\n",
    "\n",
    "us_meta = pandas.read_csv(usl + 'metadata/UrbanSound8K.csv')\n",
    "\n",
    "audio_data = []\n",
    "for i, entry in us_meta.iterrows():\n",
    "    file_loc = join_path(usl, \"audio\", 'fold' + str(entry[\"fold\"]), str(entry[\"slice_file_name\"]))\n",
    "    with WaveReader(file_loc) as r:\n",
    "        # Probably easier way with this library to read the bit depth.\n",
    "        audio_data.append((r.channels, r.samplerate, int((r.byterate) / (r.samplerate * r.channels) * 8)))\n",
    "\n",
    "audio_df = pandas.DataFrame(audio_data, columns=['num_channels', 'sample_rate', 'bit_depth'])"
   ],
   "metadata": {
    "collapsed": false,
    "pycharm": {
     "name": "#%%\n",
     "is_executing": false
    }
   }
  },
  {
   "cell_type": "markdown",
   "source": [
    "# Summaries of Sample Data"
   ],
   "metadata": {
    "collapsed": false,
    "pycharm": {
     "name": "#%% md\n"
    }
   }
  },
  {
   "cell_type": "code",
   "execution_count": 13,
   "outputs": [
    {
     "name": "stdout",
     "text": [
      "Number of channels\n",
      "2    0.915369\n",
      "1    0.084631\n",
      "Name: num_channels, dtype: float64\n",
      "\n",
      "Sample Rates\n",
      "44100     0.614979\n",
      "48000     0.286532\n",
      "96000     0.069858\n",
      "24000     0.009391\n",
      "16000     0.005153\n",
      "22050     0.005039\n",
      "11025     0.004466\n",
      "192000    0.001947\n",
      "8000      0.001374\n",
      "11024     0.000802\n",
      "32000     0.000458\n",
      "Name: sample_rate, dtype: float64\n",
      "\n",
      "Bit Depth\n",
      "16    0.659414\n",
      "24    0.315277\n",
      "32    0.019354\n",
      "8     0.004924\n",
      "4     0.001031\n",
      "Name: bit_depth, dtype: float64\n"
     ],
     "output_type": "stream"
    }
   ],
   "source": [
    "print(\"Number of channels\")\n",
    "print(audio_df.num_channels.value_counts(normalize=True))\n",
    "\n",
    "print(\"\\nSample Rates\")\n",
    "print(audio_df.sample_rate.value_counts(normalize=True))\n",
    "\n",
    "print(\"\\nBit Depth\")\n",
    "print(audio_df.bit_depth.value_counts(normalize=True))"
   ],
   "metadata": {
    "collapsed": false,
    "pycharm": {
     "name": "#%%\n",
     "is_executing": false
    }
   }
  },
  {
   "cell_type": "code",
   "execution_count": 9,
   "outputs": [],
   "source": [],
   "metadata": {
    "collapsed": false,
    "pycharm": {
     "name": "#%%\n",
     "is_executing": false
    }
   }
  }
 ],
 "metadata": {
  "kernelspec": {
   "display_name": "Python 3",
   "language": "python",
   "name": "python3"
  },
  "language_info": {
   "codemirror_mode": {
    "name": "ipython",
    "version": 3
   },
   "file_extension": ".py",
   "mimetype": "text/x-python",
   "name": "python",
   "nbconvert_exporter": "python",
   "pygments_lexer": "ipython3",
   "version": "3.7.3"
  },
  "pycharm": {
   "stem_cell": {
    "cell_type": "raw",
    "source": [],
    "metadata": {
     "collapsed": false
    }
   }
  }
 },
 "nbformat": 4,
 "nbformat_minor": 2
}
